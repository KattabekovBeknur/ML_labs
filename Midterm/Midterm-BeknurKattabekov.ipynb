{
 "cells": [
  {
   "cell_type": "markdown",
   "metadata": {},
   "source": [
    "# MidTerm 1 - ML; KBTU"
   ]
  },
  {
   "cell_type": "markdown",
   "metadata": {},
   "source": [
    "### О задании\n",
    "\n",
    "__Первая часть__ задания посвящена получению студентами навыков работы с библиотекой векторного вычисления numpy и библиотеками для построения графиков matplotlib/plotly. \n",
    "\n",
    "__Вторая часть__ задания посвящена работе с данными: их преобразованию в нужный формат и устранению проблем в них.\n",
    "\n",
    "\n",
    "### Оценивание и штрафы\n",
    "Каждая из задач имеет определенную «стоимость» (указана в скобках около задачи). Максимально допустимая оценка за работу — 10 баллов.\n",
    "\n",
    "Задание выполняется самостоятельно. «Похожие» решения считаются плагиатом и все задействованные студенты (в том числе те, у кого списали) не могут получить за него больше 0 баллов. Если вы нашли решение какого-то из заданий (или его часть) в открытом источнике, необходимо указать ссылку на этот источник в отдельном блоке в конце Вашей работы (скорее всего вы будете не единственным, кто это нашел, поэтому чтобы исключить подозрение в плагиате, необходима ссылка на источник).\n",
    "\n",
    "Неэффективная реализация кода может негативно отразиться на оценке.\n",
    "\n",
    "\n",
    "### Формат сдачи\n",
    "Для сдачи задания переименуйте получившийся файл *.ipynb в соответствии со следующим форматом: Midterm-Username.ipynb, где Username — Ваша фамилия и имя на латинице именно в таком порядке. Приложите модули с кодом functions.py и functions_vectorized.py и заархивируйте в zip формат. Имя архива должно быть homework-practice-01-Username.zip\n",
    "\n",
    "Далее отправьте этот файл на aa.pak83@gmail.com.\n",
    "\n",
    "\n",
    "Для удобства проверки самостоятельно посчитайте свою максимальную оценку (исходя из набора решенных задач) и укажите ниже."
   ]
  },
  {
   "cell_type": "markdown",
   "metadata": {},
   "source": [
    "**Оценка:** ..."
   ]
  },
  {
   "cell_type": "markdown",
   "metadata": {},
   "source": [
    "## Часть 1\n",
    "\n",
    "_Задачи позаимствованы из курса практикума кафедры ММП факультета ВМК МГУ_"
   ]
  },
  {
   "cell_type": "markdown",
   "metadata": {},
   "source": [
    "### Задачи 1-6\n",
    "__(4.5 балла)__\n",
    "\n",
    "Ниже приведены задачи на работу с numpy-массивами. Для каждой из задач нужно привести 2 реализации: одна без использования numpy (cчитайте, что там, где на входе или выходе должны быть numpy array, будут просто списки), а вторая полностью векторизованная (без использования питоновских циклов/map/list comprehension). Невекторизованная реализация каждой из задач оценивается в __0.25 балла__, векторизованная – в __0.5 балла__.\n",
    "\n",
    "Для удобства проверки приложите в ячейке ниже ссылки на самые успешные посылки.\n",
    "\n",
    "\n",
    "* __Задача 1__: Подсчитать произведение ненулевых элементов на диагонали прямоугольной матрицы.  \n",
    " Например, для X = np.array([[1, 0, 1], [2, 0, 2], [3, 0, 3], [4, 4, 4]]) ответ – 3.\n",
    " \n",
    " \n",
    "* __Задача 2__: Даны два вектора x и y. Проверить, задают ли они одно и то же мультимножество.  \n",
    "  Например, для x = np.array([1, 2, 2, 4]), y = np.array([4, 2, 1, 2]) ответ – True.\n",
    "  \n",
    "  \n",
    "* __Задача 3__: Найти максимальный элемент в векторе x среди элементов, перед которыми стоит нулевой.  \n",
    " Например, для x = np.array([6, 2, 0, 3, 0, 0, 5, 7, 0]) ответ – 5.\n",
    " \n",
    " \n",
    "* __ Задача 4__: Дан трёхмерный массив, содержащий изображение, размера (height, width, numChannels), а также вектор длины numChannels. Сложить каналы изображения с указанными весами, и вернуть результат в виде матрицы размера (height, width). В ноутбуке приведите пример работы функции – преобразуйте цветное изображение в оттенки серого, использовав коэффициенты np.array([0.299, 0.587, 0.114]). Считать реальное изображение можно при помощи функции scipy.misc.imread (если изображение не в формате png, установите пакет pillow).\n",
    "\n",
    "\n",
    "* __Задача 5__: Реализовать кодирование длин серий (Run-length encoding). Для некоторого вектора x необходимо вернуть кортеж из двух векторов одинаковой длины. Первый содержит числа, а второй - сколько раз их нужно повторить.  \n",
    " Например, для x = np.array([2, 2, 2, 3, 3, 3, 5]) ответ – (np.array([2, 3, 5]), np.array([3, 3, 1])).\n",
    " \n",
    " \n",
    "* __Задача 6__: Даны две выборки объектов - X и Y. Вычислить матрицу евклидовых расстояний между объектами. Сравните с функцией scipy.spatial.distance.cdist по скорости работы (сравнения приведите ниже в ноутбуке).\n",
    "\n",
    "__Замечание.__ Можно считать, что все указанные объекты непустые (к примеру, в __задаче 1__ на диагонали матрицы есть ненулевые элементы) и корректные."
   ]
  },
  {
   "cell_type": "markdown",
   "metadata": {},
   "source": [
    "Посылка по невекторизованным функциям: ...\n",
    "\n",
    "Посылка по векторизованным функциям: ..."
   ]
  },
  {
   "cell_type": "markdown",
   "metadata": {},
   "source": [
    "### Задача 7\n",
    "__(1.5 балла)__  \n",
    "Для каждой задачи сравните скорость работы невекторизованной и векторизованной реализации. С помощью пакета matplotlib или plotly постройте графики времени работы в зависимости от размера данных. __Графики должны выглядеть опрятно!__ То есть должны быть подписаны оси, названия графиков, и т.д. Например, ниже представлены хороший и плохой графики:"
   ]
  },
  {
   "cell_type": "code",
   "execution_count": 82,
   "metadata": {},
   "outputs": [],
   "source": [
    "import matplotlib.pyplot as plt\n",
    "import numpy as np\n",
    "\n",
    "# %matplotlib inline\n",
    "\n",
    "# data_size = np.array([10, 30, 70, 120])\n",
    "# time_non_vectorized = data_size ** 2 + 10\n",
    "# time_vectorized = data_size ** 1.5\n",
    "\n",
    "# f, (ax1, ax2) = plt.subplots(1, 2, figsize=(13, 5))\n",
    "\n",
    "# ax1.plot(data_size, time_non_vectorized)\n",
    "# ax1.plot(data_size, time_vectorized)\n",
    "# ax1.set_title(u\"Плохой график\")\n",
    "# ax1.set_xlabel(u\"Размер данных\")\n",
    "# ax1.set_ylabel(u\"Время\")\n",
    "\n",
    "# ax2.plot(data_size, time_non_vectorized, label=u\"Невекторизованная\")\n",
    "# ax2.plot(data_size, time_vectorized, label=u\"Векторизованная\")\n",
    "# ax2.set_title(u\"Хороший график\")\n",
    "# ax2.set_xlabel(u\"Длина массива\")\n",
    "# ax2.set_ylabel(u\"Время (с)\")\n",
    "# ax2.grid()\n",
    "# ax2.legend()\n",
    "# f.show()              "
   ]
  },
  {
   "cell_type": "code",
   "execution_count": 88,
   "metadata": {},
   "outputs": [
    {
     "name": "stdout",
     "output_type": "stream",
     "text": [
      "3\n",
      "3\n"
     ]
    }
   ],
   "source": [
    "import numpy as np\n",
    "X1 = [[1, 0, 1], [2, 0, 2], [3, 0, 3], [4, 4, 4]]\n",
    "sums = 1\n",
    "n = 0\n",
    "for i in range(len(X1[0])):\n",
    "    if X1[i][i]!=0:\n",
    "        sums*=X1[n][i]\n",
    "    n+=1\n",
    "\n",
    "print(sums)            #1st without\n",
    "a = np.array([[1, 0, 1],\n",
    "             [2, 0, 2],\n",
    "             [3, 0, 3],\n",
    "             [4, 4, 4]])\n",
    "d = a.diagonal()\n",
    "d_0 = d[d != 0]\n",
    "mult = np.multiply.reduce(d_0)\n",
    "print(mult)#1st with"
   ]
  },
  {
   "cell_type": "code",
   "execution_count": 7,
   "metadata": {},
   "outputs": [
    {
     "name": "stdout",
     "output_type": "stream",
     "text": [
      "True\n"
     ]
    },
    {
     "data": {
      "text/plain": [
       "True"
      ]
     },
     "execution_count": 7,
     "metadata": {},
     "output_type": "execute_result"
    }
   ],
   "source": [
    "import math as m\n",
    "a = [1,2,2,4]\n",
    "b = [2,2,1,4]\n",
    "boole = True\n",
    "for i in range(len(a)):\n",
    "    if a[i] not in b:\n",
    "        boole = False\n",
    "print(boole)#2 without\n",
    "np.array_equal(list.sort([1, 2, 2, 4]),list.sort([1, 4, 2, 2]))#2 with"
   ]
  },
  {
   "cell_type": "code",
   "execution_count": 59,
   "metadata": {},
   "outputs": [
    {
     "data": {
      "text/plain": [
       "5"
      ]
     },
     "execution_count": 59,
     "metadata": {},
     "output_type": "execute_result"
    }
   ],
   "source": [
    "x1 = [6, 2, 0, 3, 0, 0, 5, 7, 0]\n",
    "imax = 0\n",
    "prev = -1\n",
    "for i in x1:\n",
    "    if imax<i and prev==0:\n",
    "        imax = i\n",
    "    prev = i\n",
    "imax #3 without"
   ]
  },
  {
   "cell_type": "code",
   "execution_count": 60,
   "metadata": {},
   "outputs": [
    {
     "name": "stdout",
     "output_type": "stream",
     "text": [
      "5\n"
     ]
    }
   ],
   "source": [
    "x = np.array([6, 2, 0, 3, 0, 0, 5, 7])\n",
    "y = np.where(x==0)[0]\n",
    "if x[len(x)-1]!=0:\n",
    "    print(x[y[len(y)-1]+1])\n",
    "else:\n",
    "    print(x[y[len(y)-2]+1])#3 with "
   ]
  },
  {
   "cell_type": "code",
   "execution_count": 4,
   "metadata": {
    "collapsed": true
   },
   "outputs": [],
   "source": [
    "import numpy as np\n",
    "from scipy.misc import imread\n",
    "def convert_image(img, w):\n",
    "    img = np.add.reduce(img, axis=-1, keepdims=True) * w\n",
    "    img = np.add.reduce(img, axis=-1)\n",
    "    return img\n",
    "\n",
    "w = np.array([0.299, 0.587, 0.114])\n",
    "m = imread(name='color.jpg', mode='RGB')\n",
    "print(convert_image(m, w))#4 with"
   ]
  },
  {
   "cell_type": "code",
   "execution_count": 11,
   "metadata": {},
   "outputs": [
    {
     "data": {
      "image/png": "[encoded data removed]",
      "text/plain": [
       "<PIL.Image.Image image mode=1 size=650x589 at 0xF4CA67A2E8>"
      ]
     },
     "execution_count": 11,
     "metadata": {},
     "output_type": "execute_result"
    }
   ],
   "source": [
    "from PIL import Image \n",
    "image_c = Image.open(\"some_image.png\")\n",
    "image_c = image_file.convert('1')#4 without\n",
    "image_c"
   ]
  },
  {
   "cell_type": "code",
   "execution_count": 57,
   "metadata": {},
   "outputs": [
    {
     "name": "stdout",
     "output_type": "stream",
     "text": [
      "[2 3 5]\n"
     ]
    },
    {
     "data": {
      "text/plain": [
       "array([3, 3, 1], dtype=int64)"
      ]
     },
     "execution_count": 57,
     "metadata": {},
     "output_type": "execute_result"
    }
   ],
   "source": [
    "import numpy as np\n",
    "x = np.array([2, 2, 2, 3, 3, 3, 5])\n",
    "unique, count = np.unique(x, return_counts=True)\n",
    "print(unique)\n",
    "count#5with"
   ]
  },
  {
   "cell_type": "code",
   "execution_count": 75,
   "metadata": {},
   "outputs": [
    {
     "name": "stdout",
     "output_type": "stream",
     "text": [
      "[2, 3, 5]\n",
      "[3, 3, 1]\n"
     ]
    }
   ],
   "source": [
    "x=[2, 2, 2, 3, 3, 3, 5]\n",
    "a=[]\n",
    "b=[]\n",
    "m=np.max(x)\n",
    "for j in range (m+1):\n",
    "    b.append(0)\n",
    "\n",
    "for i in range( len(x)):\n",
    "    if x[i] not in a:\n",
    "        a.append(x[i])\n",
    "    c = x[i]\n",
    "    b[c]=b[c]+1\n",
    "print(a)\n",
    "b=list(filter(lambda i: i != 0, b))\n",
    "print(b)#5 without"
   ]
  },
  {
   "cell_type": "code",
   "execution_count": 80,
   "metadata": {},
   "outputs": [
    {
     "data": {
      "text/plain": [
       "array([[3., 4., 1., 2.],\n",
       "       [2., 3., 2., 3.],\n",
       "       [0., 1., 4., 5.],\n",
       "       [5., 6., 1., 0.]])"
      ]
     },
     "execution_count": 80,
     "metadata": {},
     "output_type": "execute_result"
    }
   ],
   "source": [
    "from scipy.spatial import distance_matrix\n",
    "distance_matrix([[3],[4],[6],[1]],[[6],[7],[2],[1]])#6with"
   ]
  },
  {
   "cell_type": "code",
   "execution_count": 102,
   "metadata": {},
   "outputs": [
    {
     "name": "stdout",
     "output_type": "stream",
     "text": [
      "[3.0, 4.0, 1.0, 2.0]\n",
      "[2.0, 3.0, 2.0, 3.0]\n",
      "[0.0, 1.0, 4.0, 5.0]\n",
      "[5.0, 6.0, 1.0, 0.0]\n"
     ]
    }
   ],
   "source": [
    "import math\n",
    "import time,sys\n",
    "def matri():\n",
    "    r=[3,4,6,1]\n",
    "    c=[6,7,2,1]\n",
    "    res = []\n",
    "    for i in range(len(r)):\n",
    "        newar=[]\n",
    "        for j in range(len(c)):\n",
    "            newar.append(math.sqrt((r[i] - c[j])*(r[i] - c[j])))\n",
    "        res.append(newar)\n",
    "    for k in res:\n",
    "        print(k)\n",
    "matri()#6without"
   ]
  },
  {
   "cell_type": "code",
   "execution_count": 123,
   "metadata": {
    "collapsed": true
   },
   "outputs": [],
   "source": [
    "import time,sys\n",
    "from random import randint\n",
    "import numpy as np\n",
    "\n",
    "def not_vec_1(size):\n",
    "    start10 = time.time()\n",
    "    X1 = [[randint(0,88) for i in range(size)] for k in range (size)]\n",
    "#     X1 = [[1, 0, 1], [2, 0, 2], [3, 0, 3], [4, 4, 4]]\n",
    "    sums = 1\n",
    "    n = 0\n",
    "    for i in range(len(X1[0])):\n",
    "        if X1[i][i]!=0:\n",
    "            sums*=X1[n][i]\n",
    "        n+=1\n",
    "    end10 = time.time()\n",
    "    return end10-start10\n",
    "\n",
    "def vec_1(size):\n",
    "    start11 = time.time()\n",
    "    x= np.array([[randint(0,88) for i in range(size)] for k in range (size)])\n",
    "    d = a.diagonal()\n",
    "    d_0 = d[d != 0]\n",
    "    mult = np.multiply.reduce(d_0)\n",
    "    end11 = time.time()\n",
    "    return end11-start11\n",
    "\n",
    "def not_vec_2(size):\n",
    "    start20 = time.time()\n",
    "    a= [randint(0,88) for i in range(size)]\n",
    "    b=[randint(0,88) for i in range(size)]\n",
    "    a.sort()\n",
    "    b.sort()\n",
    "    print(a==b)\n",
    "    end20 = time.time()\n",
    "    return end20-start20\n",
    "\n",
    "def vec_2(size):\n",
    "    start21 = time.time()\n",
    "    a = np.array([randint(0,88) for i in range(size)])\n",
    "    b = np.array([randint(0,88) for i in range(size)])\n",
    "    res = np.array_equal(np.sort(a),np.sort(b))\n",
    "    end21 = time.time()\n",
    "    return end21-start21"
   ]
  },
  {
   "cell_type": "code",
   "execution_count": 156,
   "metadata": {},
   "outputs": [],
   "source": [
    "def not_vec_3(size):\n",
    "    start30 = time.time()\n",
    "    x1 = [randint(0,88) for i in range(size)]\n",
    "    x1.append(0)\n",
    "    imax = 0\n",
    "    prev = -1\n",
    "    for i in x1:\n",
    "        if imax<i and prev==0:\n",
    "            imax = i\n",
    "        prev = i\n",
    "    end30 = time.time()\n",
    "    return end30-start30\n",
    "def vec_3(size):\n",
    "    start31 = time.time()\n",
    "    x = np.array([randint(0,88) for i in range(size)])\n",
    "    i = randint(0,len(x)-1)\n",
    "    x[i]=0\n",
    "    j = randint(0,len(x)-1)\n",
    "    x[j]=0 \n",
    "    np.max(np.take(x, np.where(x[1:] == 0)))\n",
    "    end31 = time.time()\n",
    "    return end31-start31\n",
    "\n",
    "def not_vec_4(size):\n",
    "    start40 = time.time()\n",
    "    from scipy.misc import imread\n",
    "    def convert_image(img, w):\n",
    "        img = np.add.reduce(img, axis=-1, keepdims=True) * w\n",
    "        img = np.add.reduce(img, axis=-1)\n",
    "        return img\n",
    "    w = np.array([0.299, 0.587, 0.114])\n",
    "    m = imread(name='color.jpg', mode='RGB')\n",
    "    end40 = time.time()\n",
    "    return end40-start40\n",
    "def vec_4(size):\n",
    "    start41 = time.time()\n",
    "    from PIL import Image \n",
    "    image_c = Image.open(\"some_image.png\")\n",
    "    image_c = image_file.convert('1')#4 without\n",
    "    image_c\n",
    "    end41 = time.time()\n",
    "    return end41-end41"
   ]
  },
  {
   "cell_type": "code",
   "execution_count": 166,
   "metadata": {},
   "outputs": [],
   "source": [
    "def vec_5(size):\n",
    "    start51 = time.time()\n",
    "    x = np.array([randint(0,88) for i in range(size)])\n",
    "    unique, count = np.unique(x, return_counts=True)\n",
    "    end51 = time.time()\n",
    "    return end51-start51\n",
    "    \n",
    "def not_vec_5(size):\n",
    "    start50 = time.time()\n",
    "    x=[randint(0,88) for i in range(size)]\n",
    "    a=[]\n",
    "    b=[]\n",
    "    m=np.max(x)\n",
    "    for j in range (m+1):\n",
    "        b.append(0)\n",
    "\n",
    "    for i in range( len(x)):\n",
    "        if x[i] not in a:\n",
    "            a.append(x[i])\n",
    "        c = x[i]\n",
    "        b[c]=b[c]+1\n",
    "#     print(a)\n",
    "    b=list(filter(lambda i: i != 0, b))\n",
    "    end50 = time.time()\n",
    "    return end50-start50\n",
    "def vec_6(size):\n",
    "    start61 = time.time()\n",
    "    from scipy.spatial import distance_matrix\n",
    "    distance_matrix([[randint(0,88) for i in range(size)]],[[randint(0,88) for i in range(size)]])\n",
    "    end61 = time.time()\n",
    "    return end61-start61\n",
    "\n",
    "def not_vec_6(size):\n",
    "    start60 = time.time()\n",
    "    r=[randint(0,88) for i in range(size)]\n",
    "    c=[randint(0,88) for i in range(size)]\n",
    "    res = []\n",
    "    for i in range(len(r)):\n",
    "        newar=[]\n",
    "        for j in range(len(c)):\n",
    "            newar.append(math.sqrt((r[i] - c[j])*(r[i] - c[j])))\n",
    "        res.append(newar)\n",
    "    end60 = time.time()\n",
    "    return end60-start60"
   ]
  },
  {
   "cell_type": "code",
   "execution_count": null,
   "metadata": {
    "collapsed": true
   },
   "outputs": [],
   "source": []
  },
  {
   "cell_type": "code",
   "execution_count": null,
   "metadata": {
    "collapsed": true
   },
   "outputs": [],
   "source": []
  },
  {
   "cell_type": "code",
   "execution_count": null,
   "metadata": {
    "collapsed": true
   },
   "outputs": [],
   "source": []
  },
  {
   "cell_type": "code",
   "execution_count": 167,
   "metadata": {},
   "outputs": [
    {
     "name": "stderr",
     "output_type": "stream",
     "text": [
      "C:\\Anaconda\\lib\\site-packages\\ipykernel_launcher.py:32: DeprecationWarning: `imread` is deprecated!\n",
      "`imread` is deprecated in SciPy 1.0.0, and will be removed in 1.2.0.\n",
      "Use ``imageio.imread`` instead.\n"
     ]
    },
    {
     "name": "stdout",
     "output_type": "stream",
     "text": [
      "False\n",
      "False\n",
      "False\n",
      "False\n"
     ]
    },
    {
     "name": "stderr",
     "output_type": "stream",
     "text": [
      "C:\\Anaconda\\lib\\site-packages\\matplotlib\\figure.py:403: UserWarning: matplotlib is currently using a non-GUI backend, so cannot show the figure\n",
      "  \"matplotlib is currently using a non-GUI backend, \"\n"
     ]
    },
    {
     "data": {
      "image/png": "[encoded data removed]",
      "text/plain": [
       "<matplotlib.figure.Figure at 0xf4cb9139b0>"
      ]
     },
     "metadata": {},
     "output_type": "display_data"
    },
    {
     "data": {
      "image/png": "[encoded data removed]",
      "text/plain": [
       "<matplotlib.figure.Figure at 0xf4cc13de48>"
      ]
     },
     "metadata": {},
     "output_type": "display_data"
    },
    {
     "data": {
      "image/png": "[encoded data removed]",
      "text/plain": [
       "<matplotlib.figure.Figure at 0xf4cbf6ebe0>"
      ]
     },
     "metadata": {},
     "output_type": "display_data"
    }
   ],
   "source": [
    "import matplotlib.pyplot as plt\n",
    "import numpy as np\n",
    "%matplotlib inline\n",
    "\n",
    "data_size = np.array([10, 30, 70, 120])\n",
    "time_non_vec6 = []\n",
    "time_non_vec4 = []\n",
    "time_non_vec5 = []\n",
    "time_non_vec3 = []\n",
    "time_non_vec2 = []\n",
    "time_non_vec1 = []\n",
    "time_vec6 = []\n",
    "time_vec5 = []\n",
    "time_vec4 = []\n",
    "time_vec3 = []\n",
    "time_vec2 = []\n",
    "time_vec1 = []\n",
    "for i in data_size:\n",
    "    time_non_vec5.append(not_vec_5(i))\n",
    "    time_vec5.append(vec_5(i))\n",
    "    time_non_vec6.append(not_vec_6(i))\n",
    "    time_vec6.append(vec_6(i))\n",
    "    time_non_vec4.append(not_vec_4(i))\n",
    "    time_vec4.append(vec_4(i))\n",
    "    time_non_vec3.append(not_vec_3(i))\n",
    "    time_vec3.append(vec_3(i))\n",
    "    time_non_vec2.append(not_vec_2(i))\n",
    "    time_vec2.append(vec_2(i))    \n",
    "    time_non_vec1.append(not_vec_1(i))\n",
    "    time_vec1.append(vec_1(i))\n",
    "    \n",
    "f, (ax1, ax2) = plt.subplots(1, 2, figsize=(13, 5))\n",
    "f2, (ax3, ax4) = plt.subplots(1, 2, figsize=(13, 5))\n",
    "f3, (ax5, ax6) = plt.subplots(1, 2, figsize=(13, 5))\n",
    "\n",
    "ax1.plot(data_size, time_non_vec1, label=u\"Невекторизованная\")\n",
    "ax1.plot(data_size, time_vec1, label=u\"Векторизованная\")\n",
    "ax1.set_title(u\"1 задача\")\n",
    "ax1.set_xlabel(u\"Длина массива\")\n",
    "ax1.set_ylabel(u\"Время (с)\")\n",
    "ax1.grid()\n",
    "ax1.legend()\n",
    "\n",
    "ax2.plot(data_size, time_non_vec2, label=u\"Невекторизованная\")\n",
    "ax2.plot(data_size, time_vec2, label=u\"Векторизованная\")\n",
    "ax2.set_title(u\"2 задача\")\n",
    "ax2.set_xlabel(u\"Длина массива\")\n",
    "ax2.set_ylabel(u\"Время (с)\")\n",
    "ax2.grid()\n",
    "ax2.legend()\n",
    "\n",
    "ax3.plot(data_size, time_non_vec3, label=u\"Невекторизованная\")\n",
    "ax3.plot(data_size, time_vec3, label=u\"Векторизованная\")\n",
    "ax3.set_title(u\"3 задача\")\n",
    "ax3.set_xlabel(u\"Длина массива\")\n",
    "ax3.set_ylabel(u\"Время (с)\")\n",
    "ax3.grid()\n",
    "ax3.legend()\n",
    "\n",
    "ax4.plot(data_size, time_non_vec4, label=u\"Невекторизованная\")\n",
    "ax4.plot(data_size, time_vec4, label=u\"Векторизованная\")\n",
    "ax4.set_title(u\"4 задача\")\n",
    "ax4.set_xlabel(u\"Длина массива\")\n",
    "ax4.set_ylabel(u\"Время (с)\")\n",
    "ax4.grid()\n",
    "ax4.legend()\n",
    "ax5.plot(data_size, time_non_vec5, label=u\"Невекторизованная\")\n",
    "ax5.plot(data_size, time_vec5, label=u\"Векторизованная\")\n",
    "ax5.set_title(u\"5 задача\")\n",
    "ax5.set_xlabel(u\"Длина массива\")\n",
    "ax5.set_ylabel(u\"Время (с)\")\n",
    "ax5.grid()\n",
    "ax5.legend()\n",
    "\n",
    "ax6.plot(data_size, time_non_vec6, label=u\"Невекторизованная\")\n",
    "ax6.plot(data_size, time_vec6, label=u\"Векторизованная\")\n",
    "ax6.set_title(u\"6 задача\")\n",
    "ax6.set_xlabel(u\"Длина массива\")\n",
    "ax6.set_ylabel(u\"Время (с)\")\n",
    "ax6.grid()\n",
    "ax6.legend()\n",
    "f.show() "
   ]
  },
  {
   "cell_type": "code",
   "execution_count": null,
   "metadata": {
    "collapsed": true
   },
   "outputs": [],
   "source": []
  },
  {
   "cell_type": "code",
   "execution_count": null,
   "metadata": {
    "collapsed": true
   },
   "outputs": [],
   "source": []
  },
  {
   "cell_type": "code",
   "execution_count": null,
   "metadata": {
    "collapsed": true
   },
   "outputs": [],
   "source": []
  },
  {
   "cell_type": "code",
   "execution_count": null,
   "metadata": {
    "collapsed": true
   },
   "outputs": [],
   "source": []
  },
  {
   "cell_type": "code",
   "execution_count": null,
   "metadata": {
    "collapsed": true
   },
   "outputs": [],
   "source": []
  },
  {
   "cell_type": "code",
   "execution_count": null,
   "metadata": {
    "collapsed": true
   },
   "outputs": [],
   "source": []
  },
  {
   "cell_type": "code",
   "execution_count": null,
   "metadata": {
    "collapsed": true
   },
   "outputs": [],
   "source": []
  },
  {
   "cell_type": "code",
   "execution_count": null,
   "metadata": {
    "collapsed": true
   },
   "outputs": [],
   "source": []
  },
  {
   "cell_type": "code",
   "execution_count": null,
   "metadata": {
    "collapsed": true
   },
   "outputs": [],
   "source": []
  },
  {
   "cell_type": "code",
   "execution_count": null,
   "metadata": {
    "collapsed": true
   },
   "outputs": [],
   "source": []
  },
  {
   "cell_type": "code",
   "execution_count": null,
   "metadata": {
    "collapsed": true
   },
   "outputs": [],
   "source": []
  },
  {
   "cell_type": "code",
   "execution_count": null,
   "metadata": {
    "collapsed": true
   },
   "outputs": [],
   "source": []
  },
  {
   "cell_type": "code",
   "execution_count": null,
   "metadata": {
    "collapsed": true
   },
   "outputs": [],
   "source": []
  },
  {
   "cell_type": "code",
   "execution_count": null,
   "metadata": {
    "collapsed": true
   },
   "outputs": [],
   "source": []
  },
  {
   "cell_type": "code",
   "execution_count": null,
   "metadata": {
    "collapsed": true
   },
   "outputs": [],
   "source": []
  },
  {
   "cell_type": "code",
   "execution_count": null,
   "metadata": {
    "collapsed": true
   },
   "outputs": [],
   "source": []
  },
  {
   "cell_type": "code",
   "execution_count": null,
   "metadata": {
    "collapsed": true
   },
   "outputs": [],
   "source": []
  },
  {
   "cell_type": "code",
   "execution_count": null,
   "metadata": {
    "collapsed": true
   },
   "outputs": [],
   "source": []
  },
  {
   "cell_type": "code",
   "execution_count": null,
   "metadata": {
    "collapsed": true
   },
   "outputs": [],
   "source": []
  },
  {
   "cell_type": "code",
   "execution_count": null,
   "metadata": {
    "collapsed": true
   },
   "outputs": [],
   "source": []
  },
  {
   "cell_type": "code",
   "execution_count": null,
   "metadata": {
    "collapsed": true
   },
   "outputs": [],
   "source": []
  },
  {
   "cell_type": "code",
   "execution_count": null,
   "metadata": {
    "collapsed": true
   },
   "outputs": [],
   "source": []
  },
  {
   "cell_type": "code",
   "execution_count": null,
   "metadata": {
    "collapsed": true
   },
   "outputs": [],
   "source": []
  },
  {
   "cell_type": "code",
   "execution_count": null,
   "metadata": {
    "collapsed": true
   },
   "outputs": [],
   "source": []
  },
  {
   "cell_type": "code",
   "execution_count": null,
   "metadata": {
    "collapsed": true
   },
   "outputs": [],
   "source": []
  },
  {
   "cell_type": "markdown",
   "metadata": {},
   "source": [
    "## Часть 2\n",
    "\n",
    "В данном задании мы рассмотрим набор данных об учащихся, собранный в 2006 году в одной из школ Португалии. Данные представлены в неудобном для машинного обучения виде, и содержат мусор. Ваша задача &mdash; привести их к надлежащему виду и обучить на них простую модель.\n",
    "\n",
    "**Внимание!** Хотя исходные данные для этого задания можно найти в интернете, делать это запрещается. Вся необходимая информация о данных содержится в задании.\n",
    "\n",
    "Данные состоят из четырех файлов:\n",
    "- data.csv &mdash; основная таблица с информацией о учащихся\n",
    "- scores.csv &mdash; список финальных оценок по одному из предметов (20-балльная шкала переведенная в проценты)\n",
    "- attendance.csv &mdash; таблица посещений занятий по этому предмету\n",
    "- school_support.txt &mdash; список учащихся, которым оказывается финансовая поддержка\n",
    "\n",
    "Ваша задача &mdash; построить модель для предсказания финальных оценок исходя из всех остальных данных. В качестве алгоритма мы будем использовать линейную регрессию, ак ачество будем измерять по метрике RMSE.\n",
    "\n",
    "Расшифровка столбцов в data.csv для справки:\n",
    "- age &mdash; возраст\n",
    "- Medu &mdash; уровень образования матери (по некоторой условной шкале)\n",
    "- Fedu &mdash; уровень образования отца (по некоторой условной шкале)\n",
    "- traveltime &mdash; время в пути до школы (1 – < 15 мин., 2 – от 15 до 30 мин., 3 – от 30 мин. to 1 ч.\n",
    "или 4 – > 1 ч.)\n",
    "- studytime &mdash; время, затрачиваемое на занятия вне школы (1 – < 2 ч., 2 – от 2 до 5 ч., 3 – от 5 до 10 ч. или 4 – > 10 ч.)\n",
    "- famrel &mdash; насколько хорошие отношения в семье у учащегося (по некоторой условной шкале)\n",
    "- freetime &mdash; количество свободного времени вне школы (по некоторой условной шкале)\n",
    "- goout &mdash; время, затрачиваемое на общение с друзьями (по некоторой условной шкале)\n",
    "- Dalc &mdash; количество употребления алкоголя в учебные дни (по некоторой условной шкале)\n",
    "- Walc &mdash; количество употребления алкоголя в неучебные дни (по некоторой условной шкале)\n",
    "- health &mdash; уровень здоровья (по некоторой условной шкале)\n",
    "- sex_M &mdash; пол: мужской (1) или женский (0)\n",
    "- address_U &mdash; живет ли учащийся в городе (1) или в пригороде (0)\n",
    "- famsize_LE3 &mdash; размер семьи: не больше 3 человек (1) или больше (0)\n",
    "- Pstatus_T &mdash; живут ли родители вместе (1) или отдельно (0)\n",
    "- nursery &mdash; посещал ли учащийся детский сад\n",
    "- plans_university &mdash; планирует ли учащийся поступать в университет (-1 или 1)\n",
    "- past_failures &mdash; количество неудовлетворительных оценок по другим предметам ранее (от 0 до 4)"
   ]
  },
  {
   "cell_type": "markdown",
   "metadata": {},
   "source": [
    "### Задача 1: пропуски в данных \n",
    "__(0.5 балла)__\n",
    "\n",
    "Загрузите таблицу data.csv. Проверьте, есть ли в ней пропуски (значения NaN). Замените все пропущенные значения на среднее значение этого признака по столбцу.\n",
    "\n",
    "*Hint: изучите в pandas функции loc, isnull, а также передачу булевых массивов в качестве индексов.*"
   ]
  },
  {
   "cell_type": "code",
   "execution_count": 59,
   "metadata": {
    "collapsed": true
   },
   "outputs": [],
   "source": [
    "import pandas as pd\n",
    "data = pd.read_csv('data.csv', nrows = 648)"
   ]
  },
  {
   "cell_type": "code",
   "execution_count": 61,
   "metadata": {},
   "outputs": [
    {
     "data": {
      "text/html": [
       "<div>\n",
       "<style>\n",
       "    .dataframe thead tr:only-child th {\n",
       "        text-align: right;\n",
       "    }\n",
       "\n",
       "    .dataframe thead th {\n",
       "        text-align: left;\n",
       "    }\n",
       "\n",
       "    .dataframe tbody tr th {\n",
       "        vertical-align: top;\n",
       "    }\n",
       "</style>\n",
       "<table border=\"1\" class=\"dataframe\">\n",
       "  <thead>\n",
       "    <tr style=\"text-align: right;\">\n",
       "      <th></th>\n",
       "      <th>age</th>\n",
       "      <th>Medu</th>\n",
       "      <th>Fedu</th>\n",
       "      <th>traveltime</th>\n",
       "      <th>studytime</th>\n",
       "      <th>famrel</th>\n",
       "      <th>freetime</th>\n",
       "      <th>goout</th>\n",
       "      <th>Dalc</th>\n",
       "      <th>Walc</th>\n",
       "      <th>health</th>\n",
       "      <th>sex_M</th>\n",
       "      <th>address_U</th>\n",
       "      <th>famsize_LE3</th>\n",
       "      <th>Pstatus_T</th>\n",
       "      <th>nursery</th>\n",
       "      <th>plans_universitypast_failures</th>\n",
       "    </tr>\n",
       "  </thead>\n",
       "  <tbody>\n",
       "    <tr>\n",
       "      <th>0</th>\n",
       "      <td>16</td>\n",
       "      <td>4</td>\n",
       "      <td>4</td>\n",
       "      <td>1</td>\n",
       "      <td>2</td>\n",
       "      <td>5</td>\n",
       "      <td>4</td>\n",
       "      <td>4.0</td>\n",
       "      <td>1.0</td>\n",
       "      <td>2.0</td>\n",
       "      <td>5</td>\n",
       "      <td>1</td>\n",
       "      <td>1</td>\n",
       "      <td>0</td>\n",
       "      <td>1</td>\n",
       "      <td>1</td>\n",
       "      <td>10</td>\n",
       "    </tr>\n",
       "    <tr>\n",
       "      <th>1</th>\n",
       "      <td>17</td>\n",
       "      <td>4</td>\n",
       "      <td>4</td>\n",
       "      <td>1</td>\n",
       "      <td>1</td>\n",
       "      <td>5</td>\n",
       "      <td>3</td>\n",
       "      <td>4.0</td>\n",
       "      <td>1.0</td>\n",
       "      <td>2.0</td>\n",
       "      <td>5</td>\n",
       "      <td>0</td>\n",
       "      <td>1</td>\n",
       "      <td>0</td>\n",
       "      <td>1</td>\n",
       "      <td>1</td>\n",
       "      <td>10</td>\n",
       "    </tr>\n",
       "    <tr>\n",
       "      <th>2</th>\n",
       "      <td>16</td>\n",
       "      <td>1</td>\n",
       "      <td>1</td>\n",
       "      <td>2</td>\n",
       "      <td>1</td>\n",
       "      <td>4</td>\n",
       "      <td>5</td>\n",
       "      <td>5.0</td>\n",
       "      <td>2.0</td>\n",
       "      <td>4.0</td>\n",
       "      <td>5</td>\n",
       "      <td>1</td>\n",
       "      <td>0</td>\n",
       "      <td>1</td>\n",
       "      <td>1</td>\n",
       "      <td>1</td>\n",
       "      <td>10</td>\n",
       "    </tr>\n",
       "    <tr>\n",
       "      <th>3</th>\n",
       "      <td>18</td>\n",
       "      <td>1</td>\n",
       "      <td>2</td>\n",
       "      <td>2</td>\n",
       "      <td>1</td>\n",
       "      <td>3</td>\n",
       "      <td>4</td>\n",
       "      <td>4.0</td>\n",
       "      <td>2.0</td>\n",
       "      <td>4.0</td>\n",
       "      <td>4</td>\n",
       "      <td>1</td>\n",
       "      <td>1</td>\n",
       "      <td>0</td>\n",
       "      <td>1</td>\n",
       "      <td>0</td>\n",
       "      <td>-10</td>\n",
       "    </tr>\n",
       "    <tr>\n",
       "      <th>4</th>\n",
       "      <td>17</td>\n",
       "      <td>2</td>\n",
       "      <td>1</td>\n",
       "      <td>2</td>\n",
       "      <td>2</td>\n",
       "      <td>4</td>\n",
       "      <td>2</td>\n",
       "      <td>5.0</td>\n",
       "      <td>1.0</td>\n",
       "      <td>2.0</td>\n",
       "      <td>5</td>\n",
       "      <td>0</td>\n",
       "      <td>0</td>\n",
       "      <td>0</td>\n",
       "      <td>1</td>\n",
       "      <td>1</td>\n",
       "      <td>10</td>\n",
       "    </tr>\n",
       "  </tbody>\n",
       "</table>\n",
       "</div>"
      ],
      "text/plain": [
       "   age  Medu  Fedu  traveltime  studytime  famrel  freetime  goout  Dalc  \\\n",
       "0   16     4     4           1          2       5         4    4.0   1.0   \n",
       "1   17     4     4           1          1       5         3    4.0   1.0   \n",
       "2   16     1     1           2          1       4         5    5.0   2.0   \n",
       "3   18     1     2           2          1       3         4    4.0   2.0   \n",
       "4   17     2     1           2          2       4         2    5.0   1.0   \n",
       "\n",
       "   Walc  health  sex_M  address_U  famsize_LE3  Pstatus_T  nursery  \\\n",
       "0   2.0       5      1          1            0          1        1   \n",
       "1   2.0       5      0          1            0          1        1   \n",
       "2   4.0       5      1          0            1          1        1   \n",
       "3   4.0       4      1          1            0          1        0   \n",
       "4   2.0       5      0          0            0          1        1   \n",
       "\n",
       "   plans_universitypast_failures  \n",
       "0                             10  \n",
       "1                             10  \n",
       "2                             10  \n",
       "3                            -10  \n",
       "4                             10  "
      ]
     },
     "execution_count": 61,
     "metadata": {},
     "output_type": "execute_result"
    }
   ],
   "source": [
    "data.head()#"
   ]
  },
  {
   "cell_type": "code",
   "execution_count": 62,
   "metadata": {},
   "outputs": [
    {
     "data": {
      "text/plain": [
       "False"
      ]
     },
     "execution_count": 62,
     "metadata": {},
     "output_type": "execute_result"
    }
   ],
   "source": [
    "data['Medu'].isnull().values.any()#"
   ]
  },
  {
   "cell_type": "code",
   "execution_count": 68,
   "metadata": {},
   "outputs": [
    {
     "data": {
      "text/plain": [
       "0"
      ]
     },
     "execution_count": 68,
     "metadata": {},
     "output_type": "execute_result"
    }
   ],
   "source": [
    "data_copy.isnull().sum().sum()#"
   ]
  },
  {
   "cell_type": "code",
   "execution_count": 64,
   "metadata": {
    "collapsed": true
   },
   "outputs": [],
   "source": [
    "for d in range(len(data)):\n",
    "    if pd.isnull(data.loc[d, 'Walc'])==True:\n",
    "        data.loc[d,'Walc'] = data['Walc'].mean()"
   ]
  },
  {
   "cell_type": "code",
   "execution_count": 66,
   "metadata": {
    "collapsed": true
   },
   "outputs": [],
   "source": [
    "data_copy = data.copy()#"
   ]
  },
  {
   "cell_type": "markdown",
   "metadata": {},
   "source": [
    "### Задача 2: кросс-валидация для исходных данных\n",
    "__(0.5 балла)__\n",
    "\n",
    "Загрузите файл scores.csv и протестируйте, как линейная регрессия предсказывает ответ сейчас (с помощью кросс-валидации).\n",
    "\n",
    "*Hint: воспользуйтесь sklearn.linear_model и sklearn.model_selection.*"
   ]
  },
  {
   "cell_type": "code",
   "execution_count": 52,
   "metadata": {
    "collapsed": true
   },
   "outputs": [],
   "source": [
    "from sklearn.linear_model import LinearRegression\n",
    "from sklearn import model_selection\n",
    "from sklearn.model_selection import train_test_split\n",
    "scores = pd.read_csv('scores.csv', nrows = 648)"
   ]
  },
  {
   "cell_type": "code",
   "execution_count": 69,
   "metadata": {
    "collapsed": true
   },
   "outputs": [],
   "source": [
    "X_train, X_test, y_train, y_test = train_test_split(data_copy, scores,\n",
    "                                                    test_size=0.3)"
   ]
  },
  {
   "cell_type": "code",
   "execution_count": 76,
   "metadata": {
    "collapsed": true
   },
   "outputs": [],
   "source": [
    "from sklearn.metrics import roc_auc_score#"
   ]
  },
  {
   "cell_type": "code",
   "execution_count": 154,
   "metadata": {},
   "outputs": [
    {
     "data": {
      "text/plain": [
       "-0.03561696833571548"
      ]
     },
     "execution_count": 154,
     "metadata": {},
     "output_type": "execute_result"
    }
   ],
   "source": [
    "model = LinearRegression()\n",
    "model.fit(X_train,y_train)\n",
    "model.predict(X_test)\n",
    "model.score(X_test,y_test)"
   ]
  },
  {
   "cell_type": "code",
   "execution_count": 89,
   "metadata": {},
   "outputs": [
    {
     "data": {
      "text/plain": [
       "17.382661276227953"
      ]
     },
     "execution_count": 89,
     "metadata": {},
     "output_type": "execute_result"
    }
   ],
   "source": [
    "from sklearn.metrics import mean_squared_error\n",
    "from math import sqrt\n",
    "\n",
    "sqrt(mean_squared_error(y_test, model.predict(X_test)))"
   ]
  },
  {
   "cell_type": "markdown",
   "metadata": {},
   "source": [
    "### Задача 3: полные данные\n",
    "__(1 балл)__\n",
    "\n",
    "Воспользуйтесь файлами attendance.csv и school_support.txt для того, чтобы добавить новые признаки в данные. Желательно по максимуму использовать возможности pandas для упрощения преобразований."
   ]
  },
  {
   "cell_type": "code",
   "execution_count": 243,
   "metadata": {
    "collapsed": true
   },
   "outputs": [],
   "source": [
    "attendance = pd.read_csv('attendance.csv', sep = ';', nrows = 648)"
   ]
  },
  {
   "cell_type": "code",
   "execution_count": 113,
   "metadata": {
    "collapsed": true
   },
   "outputs": [],
   "source": [
    "data_copy['attendance'] = 0"
   ]
  },
  {
   "cell_type": "code",
   "execution_count": 114,
   "metadata": {},
   "outputs": [
    {
     "name": "stderr",
     "output_type": "stream",
     "text": [
      "C:\\Anaconda\\lib\\site-packages\\ipykernel_launcher.py:6: SettingWithCopyWarning: \n",
      "A value is trying to be set on a copy of a slice from a DataFrame\n",
      "\n",
      "See the caveats in the documentation: http://pandas.pydata.org/pandas-docs/stable/indexing.html#indexing-view-versus-copy\n",
      "  \n"
     ]
    }
   ],
   "source": [
    "for a in range(len(attendance)):\n",
    "    cnt = 0\n",
    "    for b in range(32):\n",
    "        if attendance[str(b)][a] =='+':\n",
    "            cnt+=1\n",
    "    data_copy['attendance'][a] = cnt \n",
    "    "
   ]
  },
  {
   "cell_type": "code",
   "execution_count": 140,
   "metadata": {
    "collapsed": true
   },
   "outputs": [],
   "source": [
    "with open('school_support.txt') as f:\n",
    "    content = f.readlines()"
   ]
  },
  {
   "cell_type": "code",
   "execution_count": 142,
   "metadata": {
    "collapsed": true
   },
   "outputs": [],
   "source": [
    "content = [x.strip() for x in content]"
   ]
  },
  {
   "cell_type": "code",
   "execution_count": 150,
   "metadata": {
    "collapsed": true
   },
   "outputs": [],
   "source": [
    "data_copy['support'] = 0# 1 supported 0 not supported"
   ]
  },
  {
   "cell_type": "code",
   "execution_count": 152,
   "metadata": {},
   "outputs": [
    {
     "name": "stderr",
     "output_type": "stream",
     "text": [
      "C:\\Anaconda\\lib\\site-packages\\ipykernel_launcher.py:2: SettingWithCopyWarning: \n",
      "A value is trying to be set on a copy of a slice from a DataFrame\n",
      "\n",
      "See the caveats in the documentation: http://pandas.pydata.org/pandas-docs/stable/indexing.html#indexing-view-versus-copy\n",
      "  \n"
     ]
    }
   ],
   "source": [
    "for s in content:\n",
    "    data_copy['support'][int(s)] = 1\n",
    "#     print(s)"
   ]
  },
  {
   "cell_type": "markdown",
   "metadata": {},
   "source": [
    "### Задача 4: сломанный признак\n",
    "__(0.5 балла)__\n",
    "\n",
    "Найдите в данных сломанный признак (он не соответствует описанию) и исправьте его."
   ]
  },
  {
   "cell_type": "code",
   "execution_count": 171,
   "metadata": {},
   "outputs": [
    {
     "data": {
      "text/plain": [
       "0    10\n",
       "1    10\n",
       "2    10\n",
       "3   -10\n",
       "4    10\n",
       "Name: plans_universitypast_failures, dtype: int64"
      ]
     },
     "execution_count": 171,
     "metadata": {},
     "output_type": "execute_result"
    }
   ],
   "source": [
    "data_broken = data_copy['plans_universitypast_failures']#broken\n",
    "data_copy.drop(['plans_universitypast_failures'], axis=1)\n",
    "data_broken.head()"
   ]
  },
  {
   "cell_type": "code",
   "execution_count": 172,
   "metadata": {
    "collapsed": true
   },
   "outputs": [],
   "source": [
    "data_copy['plans_university'] = 0"
   ]
  },
  {
   "cell_type": "code",
   "execution_count": 174,
   "metadata": {},
   "outputs": [
    {
     "name": "stderr",
     "output_type": "stream",
     "text": [
      "C:\\Anaconda\\lib\\site-packages\\ipykernel_launcher.py:5: SettingWithCopyWarning: \n",
      "A value is trying to be set on a copy of a slice from a DataFrame\n",
      "\n",
      "See the caveats in the documentation: http://pandas.pydata.org/pandas-docs/stable/indexing.html#indexing-view-versus-copy\n",
      "  \"\"\"\n",
      "C:\\Anaconda\\lib\\site-packages\\ipykernel_launcher.py:3: SettingWithCopyWarning: \n",
      "A value is trying to be set on a copy of a slice from a DataFrame\n",
      "\n",
      "See the caveats in the documentation: http://pandas.pydata.org/pandas-docs/stable/indexing.html#indexing-view-versus-copy\n",
      "  This is separate from the ipykernel package so we can avoid doing imports until\n"
     ]
    }
   ],
   "source": [
    "for i in range(len(data_broken)):\n",
    "    if data_broken[i] == -10:\n",
    "        data_copy['plans_university'][i] = -1\n",
    "    else:\n",
    "        data_copy['plans_university'][i] = 1"
   ]
  },
  {
   "cell_type": "code",
   "execution_count": 175,
   "metadata": {},
   "outputs": [
    {
     "data": {
      "text/plain": [
       "0    1\n",
       "1    1\n",
       "2    1\n",
       "3   -1\n",
       "4    1\n",
       "Name: plans_university, dtype: int64"
      ]
     },
     "execution_count": 175,
     "metadata": {},
     "output_type": "execute_result"
    }
   ],
   "source": [
    "data_copy['plans_university'].head()"
   ]
  },
  {
   "cell_type": "markdown",
   "metadata": {},
   "source": [
    "### Задача 5: борьба с выбросами\n",
    "__(1.5 балла)__\n",
    "\n",
    "Качество предсказания может ухудшаться, если в данных присутствуют корректные значения признаков (с точки зрения чтения данных и применения методов), но не соответствующие реальным объектам. Например, данные могли быть введены в неверном формате, а потом слишком грубо приведены к общему виду, из-за чего ошибка не была замечена.\n",
    "Попробуем от такого избавиться &mdash; а для этого такие объекты нужно сначала найти. Конечно, нам еще недоступны многие продвинутые способы, но давайте попробуем обойтись простыми.\n",
    "\n",
    "Первый способ это сделать &mdash; посмотреть для каждого признака на распределение его значений и проверить крайние значения на правдоподобность.\n",
    "\n",
    "*Hint 1: используйте функцию DataFrame.hist*\n",
    "\n",
    "*Hint 2: в описании датасета выше есть информация, необходимая для восстановления правильных значений*"
   ]
  },
  {
   "cell_type": "code",
   "execution_count": 242,
   "metadata": {
    "collapsed": true
   },
   "outputs": [],
   "source": [
    "import matplotlib.pyplot as plt"
   ]
  },
  {
   "cell_type": "code",
   "execution_count": 231,
   "metadata": {
    "collapsed": true
   },
   "outputs": [],
   "source": [
    "import sys"
   ]
  },
  {
   "cell_type": "code",
   "execution_count": 205,
   "metadata": {
    "collapsed": true
   },
   "outputs": [],
   "source": [
    "data_copy = data_copy.drop(['plans_universitypast_failures'], axis=1)"
   ]
  },
  {
   "cell_type": "code",
   "execution_count": 225,
   "metadata": {},
   "outputs": [
    {
     "data": {
      "image/png": "[encoded data removed]",
      "text/plain": [
       "<matplotlib.figure.Figure at 0x52ce8de9b0>"
      ]
     },
     "metadata": {},
     "output_type": "display_data"
    }
   ],
   "source": [
    "data_copy['traveltime'].hist()#bingo!\n",
    "plt.show()"
   ]
  },
  {
   "cell_type": "code",
   "execution_count": 237,
   "metadata": {},
   "outputs": [
    {
     "name": "stdout",
     "output_type": "stream",
     "text": [
      "true\n"
     ]
    },
    {
     "ename": "SystemExit",
     "evalue": "",
     "output_type": "error",
     "traceback": [
      "An exception has occurred, use %tb to see the full traceback.\n",
      "\u001b[1;31mSystemExit\u001b[0m\n"
     ]
    },
    {
     "name": "stderr",
     "output_type": "stream",
     "text": [
      "C:\\Anaconda\\lib\\site-packages\\IPython\\core\\interactiveshell.py:2889: UserWarning: To exit: use 'exit', 'quit', or Ctrl-D.\n",
      "  warn(\"To exit: use 'exit', 'quit', or Ctrl-D.\", stacklevel=1)\n"
     ]
    }
   ],
   "source": [
    "for i in range(len(data_copy['traveltime'])):#\n",
    "    if 50 == data_copy['traveltime'][i]:#\n",
    "        print('true')#\n",
    "        sys.exit()#"
   ]
  },
  {
   "cell_type": "code",
   "execution_count": 238,
   "metadata": {},
   "outputs": [
    {
     "name": "stderr",
     "output_type": "stream",
     "text": [
      "C:\\Anaconda\\lib\\site-packages\\ipykernel_launcher.py:3: SettingWithCopyWarning: \n",
      "A value is trying to be set on a copy of a slice from a DataFrame\n",
      "\n",
      "See the caveats in the documentation: http://pandas.pydata.org/pandas-docs/stable/indexing.html#indexing-view-versus-copy\n",
      "  This is separate from the ipykernel package so we can avoid doing imports until\n"
     ]
    }
   ],
   "source": [
    "for i in range(len(data_copy['traveltime'])):\n",
    "    if data_copy['traveltime'][i]==10 or data_copy['traveltime'][i]==25 or data_copy['traveltime'][i]==50:\n",
    "        data_copy['traveltime'][i] = 4"
   ]
  },
  {
   "cell_type": "code",
   "execution_count": 239,
   "metadata": {},
   "outputs": [
    {
     "data": {
      "image/png": "[encoded data removed]",
      "text/plain": [
       "<matplotlib.figure.Figure at 0x52cce20eb8>"
      ]
     },
     "metadata": {},
     "output_type": "display_data"
    }
   ],
   "source": [
    "data_copy['traveltime'].hist()#bingo!\n",
    "plt.show()"
   ]
  },
  {
   "cell_type": "code",
   "execution_count": null,
   "metadata": {
    "collapsed": true
   },
   "outputs": [],
   "source": []
  },
  {
   "cell_type": "code",
   "execution_count": null,
   "metadata": {
    "collapsed": true
   },
   "outputs": [],
   "source": []
  },
  {
   "cell_type": "markdown",
   "metadata": {},
   "source": [
    "Другой простой способ найти выбросы &mdash; сделать предсказание на всех объектах и посмотреть на объекты с наибольшей ошибкой. Обратите внимание, что просто удалять все объекты с высокой ошибкой нельзя &mdash; это, конечно, хороший способ добиться меньшей ошибки (на данной выборке), но одновременно вы ухудшите обобщающую способность алгоритма. Вместо этого вам нужно найти однозначно ошибочные записи и их исправить.\n",
    "\n",
    "*Hint: возможно, все проблемы уже были найдены в прошлом пункте; для проверки &mdash; в обоих пунктах в сумме нужно исправить 3 проблемы.*"
   ]
  },
  {
   "cell_type": "code",
   "execution_count": null,
   "metadata": {
    "collapsed": true
   },
   "outputs": [],
   "source": [
    "# Your code here\n",
    "# ..."
   ]
  },
  {
   "cell_type": "markdown",
   "metadata": {},
   "source": [
    "### Финальное предсказание\n",
    "\n",
    "Проведите предсказание еще раз и сравните результат с исходным."
   ]
  },
  {
   "cell_type": "code",
   "execution_count": 240,
   "metadata": {},
   "outputs": [
    {
     "data": {
      "text/plain": [
       "array([[56.54690031],\n",
       "       [61.46236141],\n",
       "       [55.28575401],\n",
       "       [55.75030576],\n",
       "       [59.31751262],\n",
       "       [58.91883751],\n",
       "       [59.52690967],\n",
       "       [56.85762379],\n",
       "       [60.3874655 ],\n",
       "       [61.14671022],\n",
       "       [61.37358343],\n",
       "       [59.39832025],\n",
       "       [61.52635883],\n",
       "       [64.27492955],\n",
       "       [58.42855106],\n",
       "       [59.03686027],\n",
       "       [66.9917372 ],\n",
       "       [58.86643116],\n",
       "       [55.53195293],\n",
       "       [62.82117576],\n",
       "       [54.01287893],\n",
       "       [45.97450185],\n",
       "       [55.42843697],\n",
       "       [59.91555236],\n",
       "       [60.06554039],\n",
       "       [62.7799868 ],\n",
       "       [59.8046566 ],\n",
       "       [57.75830637],\n",
       "       [57.89923269],\n",
       "       [58.43517413],\n",
       "       [58.80935435],\n",
       "       [58.08574164],\n",
       "       [59.11848029],\n",
       "       [57.80699483],\n",
       "       [60.29132481],\n",
       "       [59.27449399],\n",
       "       [54.44098435],\n",
       "       [59.87410891],\n",
       "       [52.44618725],\n",
       "       [59.40421862],\n",
       "       [57.4178949 ],\n",
       "       [62.42067766],\n",
       "       [57.5363816 ],\n",
       "       [59.1058545 ],\n",
       "       [56.17314717],\n",
       "       [65.58705485],\n",
       "       [50.34539305],\n",
       "       [56.70950926],\n",
       "       [61.6798342 ],\n",
       "       [60.50256885],\n",
       "       [60.96765089],\n",
       "       [59.26055232],\n",
       "       [60.51136251],\n",
       "       [60.60009097],\n",
       "       [59.53560055],\n",
       "       [57.33932398],\n",
       "       [59.18585908],\n",
       "       [59.22365447],\n",
       "       [57.18284873],\n",
       "       [61.41445067],\n",
       "       [59.56123982],\n",
       "       [56.98417679],\n",
       "       [63.83840088],\n",
       "       [58.65878128],\n",
       "       [51.11761095],\n",
       "       [61.54894561],\n",
       "       [58.64169524],\n",
       "       [59.94427743],\n",
       "       [58.66290491],\n",
       "       [57.25563316],\n",
       "       [56.97052957],\n",
       "       [59.46595093],\n",
       "       [57.59514136],\n",
       "       [67.30595582],\n",
       "       [60.57582565],\n",
       "       [57.79547719],\n",
       "       [58.91031321],\n",
       "       [61.93825205],\n",
       "       [55.91892238],\n",
       "       [58.70393371],\n",
       "       [58.24974811],\n",
       "       [61.86174922],\n",
       "       [56.19982491],\n",
       "       [58.62695588],\n",
       "       [56.00863552],\n",
       "       [59.44555108],\n",
       "       [56.72853052],\n",
       "       [57.29831782],\n",
       "       [59.60269935],\n",
       "       [56.76731986],\n",
       "       [59.97258572],\n",
       "       [57.6677767 ],\n",
       "       [61.66102366],\n",
       "       [59.69746724],\n",
       "       [55.90118141],\n",
       "       [57.96227363],\n",
       "       [59.69496331],\n",
       "       [61.79348012],\n",
       "       [62.33214349],\n",
       "       [57.85347245],\n",
       "       [57.04103836],\n",
       "       [53.24696026],\n",
       "       [56.43160612],\n",
       "       [62.91060672],\n",
       "       [64.48541269],\n",
       "       [59.05959077],\n",
       "       [62.78104685],\n",
       "       [58.16768689],\n",
       "       [58.45042592],\n",
       "       [59.88279215],\n",
       "       [55.72885403],\n",
       "       [47.87684408],\n",
       "       [60.95904806],\n",
       "       [64.96333903],\n",
       "       [59.08570943],\n",
       "       [54.64433657],\n",
       "       [58.7543379 ],\n",
       "       [58.55032321],\n",
       "       [53.54800617],\n",
       "       [60.18720227],\n",
       "       [56.29736368],\n",
       "       [56.39169059],\n",
       "       [63.33472421],\n",
       "       [60.310739  ],\n",
       "       [60.28597128],\n",
       "       [60.19520884],\n",
       "       [56.79687235],\n",
       "       [62.76452251],\n",
       "       [57.62794815],\n",
       "       [59.55723382],\n",
       "       [47.58791267],\n",
       "       [62.30632824],\n",
       "       [58.05579655],\n",
       "       [62.60973547],\n",
       "       [53.96091847],\n",
       "       [56.66218425],\n",
       "       [59.91487535],\n",
       "       [56.5665107 ],\n",
       "       [54.17446392],\n",
       "       [62.8497791 ],\n",
       "       [55.97942491],\n",
       "       [63.38254322],\n",
       "       [55.0156878 ],\n",
       "       [56.37014921],\n",
       "       [54.19867713],\n",
       "       [52.06757243],\n",
       "       [59.01669705],\n",
       "       [64.07268256],\n",
       "       [65.05973587],\n",
       "       [62.56213767],\n",
       "       [61.17656825],\n",
       "       [60.74474007],\n",
       "       [54.59282944],\n",
       "       [60.9589489 ],\n",
       "       [42.5344576 ],\n",
       "       [56.35498187],\n",
       "       [56.52109069],\n",
       "       [61.49339374],\n",
       "       [62.25830579],\n",
       "       [56.66497528],\n",
       "       [65.65092808],\n",
       "       [55.88434488],\n",
       "       [65.34718991],\n",
       "       [63.15920095],\n",
       "       [59.03311681],\n",
       "       [58.3112377 ],\n",
       "       [58.03919274],\n",
       "       [60.37465037],\n",
       "       [61.30615872],\n",
       "       [61.72106269],\n",
       "       [59.79270979],\n",
       "       [59.05519006],\n",
       "       [60.92440443],\n",
       "       [59.66793641],\n",
       "       [62.13549104],\n",
       "       [56.31489922],\n",
       "       [60.25673131],\n",
       "       [59.56936458],\n",
       "       [62.16034643],\n",
       "       [56.45544132],\n",
       "       [60.85115743],\n",
       "       [60.89214044],\n",
       "       [57.38499208],\n",
       "       [58.40143739],\n",
       "       [57.55527653],\n",
       "       [58.96298937],\n",
       "       [60.02222367],\n",
       "       [56.82625463],\n",
       "       [57.40737671],\n",
       "       [48.4896154 ],\n",
       "       [60.75956049],\n",
       "       [56.2552299 ],\n",
       "       [59.3028256 ],\n",
       "       [59.70151472],\n",
       "       [58.49432095]])"
      ]
     },
     "execution_count": 240,
     "metadata": {},
     "output_type": "execute_result"
    }
   ],
   "source": [
    "X_train, X_test, y_train, y_test = train_test_split(data_copy, scores,\n",
    "                                                    test_size=0.3)\n",
    "model = LinearRegression()\n",
    "model.fit(X_train,y_train)\n",
    "model.predict(X_test)\n",
    "# model.score(X_test,y_test)"
   ]
  },
  {
   "cell_type": "code",
   "execution_count": 241,
   "metadata": {},
   "outputs": [
    {
     "data": {
      "text/plain": [
       "14.322464866872478"
      ]
     },
     "execution_count": 241,
     "metadata": {},
     "output_type": "execute_result"
    }
   ],
   "source": [
    "from sklearn.metrics import mean_squared_error\n",
    "from math import sqrt\n",
    "\n",
    "sqrt(mean_squared_error(y_test, model.predict(X_test)))"
   ]
  },
  {
   "cell_type": "code",
   "execution_count": null,
   "metadata": {
    "collapsed": true
   },
   "outputs": [],
   "source": [
    "#основной ресуср stackoverflow:)"
   ]
  }
 ],
 "metadata": {
  "anaconda-cloud": {},
  "kernelspec": {
   "display_name": "Python 3",
   "language": "python",
   "name": "python3"
  },
  "language_info": {
   "codemirror_mode": {
    "name": "ipython",
    "version": 3
   },
   "file_extension": ".py",
   "mimetype": "text/x-python",
   "name": "python",
   "nbconvert_exporter": "python",
   "pygments_lexer": "ipython3",
   "version": "3.6.6"
  }
 },
 "nbformat": 4,
 "nbformat_minor": 2
}
