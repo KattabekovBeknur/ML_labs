{
 "cells": [
  {
   "cell_type": "code",
   "execution_count": 3,
   "metadata": {},
   "outputs": [],
   "source": [
    "import time,sys\n",
    "from random import randint\n",
    "import numpy as np\n",
    "start10 = time.time()\n",
    "def not_vec_1(size):\n",
    "    X1 = [[randint(0,88) for i in range(size)] for k in range (size)]\n",
    "#     X1 = [[1, 0, 1], [2, 0, 2], [3, 0, 3], [4, 4, 4]]\n",
    "    sums = 1\n",
    "    n = 0\n",
    "    for i in range(len(X1[0])):\n",
    "        if X1[i][i]!=0:\n",
    "            sums*=X1[n][i]\n",
    "        n+=1\n",
    "    end10 = time.time()\n",
    "    return end10-start10"
   ]
  },
  {
   "cell_type": "code",
   "execution_count": null,
   "metadata": {
    "collapsed": true
   },
   "outputs": [],
   "source": []
  },
  {
   "cell_type": "code",
   "execution_count": 4,
   "metadata": {
    "collapsed": true
   },
   "outputs": [],
   "source": [
    "start11 = time.time()\n",
    "def vec_1(size):\n",
    "    x= np.array([[randint(0,88) for i in range(size)] for k in range (size)])\n",
    "    d = a.diagonal()\n",
    "    d_0 = d[d != 0]\n",
    "    mult = np.multiply.reduce(d_0)\n",
    "    end11 = time.time()\n",
    "    return end11-start11"
   ]
  },
  {
   "cell_type": "code",
   "execution_count": 7,
   "metadata": {
    "collapsed": true
   },
   "outputs": [],
   "source": [
    "def not_vec_2(size):\n",
    "    start20 = time.time()\n",
    "    arr = [[randint(0,88) for i in range(size)] for k in range (size)]\n",
    "    a = arr\n",
    "    b = np.random.shuffle(arr)\n",
    "    # a = [1,2,2,4]\n",
    "    # b = [2,2,1,4]\n",
    "    boole = True\n",
    "    for i in range(len(a)):\n",
    "        if a[i] not in b:\n",
    "            boole = False\n",
    "    end20 = time.time()\n",
    "    return end20-start20"
   ]
  },
  {
   "cell_type": "code",
   "execution_count": null,
   "metadata": {
    "collapsed": true
   },
   "outputs": [],
   "source": []
  },
  {
   "cell_type": "code",
   "execution_count": 8,
   "metadata": {
    "collapsed": true
   },
   "outputs": [],
   "source": [
    "def vec_2(size):\n",
    "    start21 = time.time()\n",
    "    arr = np.array([[randint(0,88) for i in range(size)] for k in range (size)])\n",
    "    np.array_equal(list.sort(arr),list.sort(np.random.shuffle(arr)))\n",
    "    end21 = time.time()\n",
    "    return end21-start21"
   ]
  },
  {
   "cell_type": "code",
   "execution_count": null,
   "metadata": {
    "collapsed": true
   },
   "outputs": [],
   "source": []
  },
  {
   "cell_type": "code",
   "execution_count": null,
   "metadata": {
    "collapsed": true
   },
   "outputs": [],
   "source": []
  }
 ],
 "metadata": {
  "kernelspec": {
   "display_name": "Python 3",
   "language": "python",
   "name": "python3"
  },
  "language_info": {
   "codemirror_mode": {
    "name": "ipython",
    "version": 3
   },
   "file_extension": ".py",
   "mimetype": "text/x-python",
   "name": "python",
   "nbconvert_exporter": "python",
   "pygments_lexer": "ipython3",
   "version": "3.6.6"
  }
 },
 "nbformat": 4,
 "nbformat_minor": 2
}
