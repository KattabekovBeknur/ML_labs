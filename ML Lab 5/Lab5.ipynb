{
 "cells": [
  {
   "cell_type": "markdown",
   "metadata": {},
   "source": [
    "# Lab 5. Data Sci. kNN Decision Trees"
   ]
  },
  {
   "cell_type": "markdown",
   "metadata": {},
   "source": [
    "Name:\n",
    "    \n",
    "Student ID:\n",
    "    \n",
    "Email:"
   ]
  },
  {
   "cell_type": "markdown",
   "metadata": {},
   "source": [
    "## Part 1: Pandas\n",
    "\n",
    "Answer questions about data on flights to the United States.\n",
    "\n",
    "Data: 2008.csv.bz2 in archive (note that it is not necessary to unpack this file — the pandas.read_csv function is able to read from archives automatically)\n",
    "\n",
    "Code book of dataset: http://stat-computing.org/dataexpo/2009/the-data.html\n",
    "\n",
    "* Which of the reasons for flight cancellation (CancellationCode) was the most frequent? (decoding codes can be found in the data description)\n",
    "\n",
    "* Find the average, minimum and maximum distance traveled by plane.\n",
    "\n",
    "* Does the minimum distance traveled look suspicious? On which days and on which flights was it? What distance was covered by the same flights on other days?\n",
    "\n",
    "* What airport was the most departures from? What city is it located in?\n",
    "\n",
    "* Find for each airport the average flight time (AirTime) for all flights departing from it. Which airport has the highest value of this indicator?\n",
    "\n",
    "* Find the airport with the largest share of delayed (DepDelay> 0) flights. At the same time, exclude from consideration airports from which less than 1000 flights were sent (use the filter function after groupby)."
   ]
  },
  {
   "cell_type": "code",
   "execution_count": 3,
   "metadata": {
    "collapsed": true
   },
   "outputs": [],
   "source": [
    "import numpy as np\n",
    "import pandas as pd"
   ]
  },
  {
   "cell_type": "code",
   "execution_count": 4,
   "metadata": {},
   "outputs": [
    {
     "data": {
      "text/html": [
       "<div>\n",
       "<table border=\"1\" class=\"dataframe\">\n",
       "  <thead>\n",
       "    <tr style=\"text-align: right;\">\n",
       "      <th></th>\n",
       "      <th>Year</th>\n",
       "      <th>Month</th>\n",
       "      <th>DayofMonth</th>\n",
       "      <th>DayOfWeek</th>\n",
       "      <th>DepTime</th>\n",
       "      <th>CRSDepTime</th>\n",
       "      <th>ArrTime</th>\n",
       "      <th>CRSArrTime</th>\n",
       "      <th>FlightNum</th>\n",
       "      <th>ActualElapsedTime</th>\n",
       "      <th>...</th>\n",
       "      <th>Distance</th>\n",
       "      <th>TaxiIn</th>\n",
       "      <th>TaxiOut</th>\n",
       "      <th>Cancelled</th>\n",
       "      <th>Diverted</th>\n",
       "      <th>CarrierDelay</th>\n",
       "      <th>WeatherDelay</th>\n",
       "      <th>NASDelay</th>\n",
       "      <th>SecurityDelay</th>\n",
       "      <th>LateAircraftDelay</th>\n",
       "    </tr>\n",
       "  </thead>\n",
       "  <tbody>\n",
       "    <tr>\n",
       "      <th>count</th>\n",
       "      <td>7009728.0</td>\n",
       "      <td>7.009728e+06</td>\n",
       "      <td>7.009728e+06</td>\n",
       "      <td>7.009728e+06</td>\n",
       "      <td>6.873482e+06</td>\n",
       "      <td>7.009728e+06</td>\n",
       "      <td>6.858079e+06</td>\n",
       "      <td>7.009728e+06</td>\n",
       "      <td>7.009728e+06</td>\n",
       "      <td>6.855029e+06</td>\n",
       "      <td>...</td>\n",
       "      <td>7.009728e+06</td>\n",
       "      <td>6.858079e+06</td>\n",
       "      <td>6.872670e+06</td>\n",
       "      <td>7.009728e+06</td>\n",
       "      <td>7.009728e+06</td>\n",
       "      <td>1.524735e+06</td>\n",
       "      <td>1.524735e+06</td>\n",
       "      <td>1.524735e+06</td>\n",
       "      <td>1.524735e+06</td>\n",
       "      <td>1.524735e+06</td>\n",
       "    </tr>\n",
       "    <tr>\n",
       "      <th>mean</th>\n",
       "      <td>2008.0</td>\n",
       "      <td>6.375130e+00</td>\n",
       "      <td>1.572801e+01</td>\n",
       "      <td>3.924182e+00</td>\n",
       "      <td>1.333830e+03</td>\n",
       "      <td>1.326086e+03</td>\n",
       "      <td>1.481258e+03</td>\n",
       "      <td>1.494801e+03</td>\n",
       "      <td>2.224200e+03</td>\n",
       "      <td>1.273224e+02</td>\n",
       "      <td>...</td>\n",
       "      <td>7.263870e+02</td>\n",
       "      <td>6.860852e+00</td>\n",
       "      <td>1.645305e+01</td>\n",
       "      <td>1.960618e-02</td>\n",
       "      <td>2.463006e-03</td>\n",
       "      <td>1.577206e+01</td>\n",
       "      <td>3.039031e+00</td>\n",
       "      <td>1.716462e+01</td>\n",
       "      <td>7.497434e-02</td>\n",
       "      <td>2.077098e+01</td>\n",
       "    </tr>\n",
       "    <tr>\n",
       "      <th>std</th>\n",
       "      <td>0.0</td>\n",
       "      <td>3.406737e+00</td>\n",
       "      <td>8.797068e+00</td>\n",
       "      <td>1.988259e+00</td>\n",
       "      <td>4.780689e+02</td>\n",
       "      <td>4.642509e+02</td>\n",
       "      <td>5.052251e+02</td>\n",
       "      <td>4.826728e+02</td>\n",
       "      <td>1.961716e+03</td>\n",
       "      <td>7.018731e+01</td>\n",
       "      <td>...</td>\n",
       "      <td>5.621018e+02</td>\n",
       "      <td>4.933649e+00</td>\n",
       "      <td>1.133280e+01</td>\n",
       "      <td>1.386426e-01</td>\n",
       "      <td>4.956753e-02</td>\n",
       "      <td>4.009912e+01</td>\n",
       "      <td>1.950287e+01</td>\n",
       "      <td>3.189495e+01</td>\n",
       "      <td>1.837940e+00</td>\n",
       "      <td>3.925964e+01</td>\n",
       "    </tr>\n",
       "    <tr>\n",
       "      <th>min</th>\n",
       "      <td>2008.0</td>\n",
       "      <td>1.000000e+00</td>\n",
       "      <td>1.000000e+00</td>\n",
       "      <td>1.000000e+00</td>\n",
       "      <td>1.000000e+00</td>\n",
       "      <td>0.000000e+00</td>\n",
       "      <td>1.000000e+00</td>\n",
       "      <td>0.000000e+00</td>\n",
       "      <td>1.000000e+00</td>\n",
       "      <td>1.200000e+01</td>\n",
       "      <td>...</td>\n",
       "      <td>1.100000e+01</td>\n",
       "      <td>0.000000e+00</td>\n",
       "      <td>0.000000e+00</td>\n",
       "      <td>0.000000e+00</td>\n",
       "      <td>0.000000e+00</td>\n",
       "      <td>0.000000e+00</td>\n",
       "      <td>0.000000e+00</td>\n",
       "      <td>0.000000e+00</td>\n",
       "      <td>0.000000e+00</td>\n",
       "      <td>0.000000e+00</td>\n",
       "    </tr>\n",
       "    <tr>\n",
       "      <th>25%</th>\n",
       "      <td>2008.0</td>\n",
       "      <td>3.000000e+00</td>\n",
       "      <td>8.000000e+00</td>\n",
       "      <td>2.000000e+00</td>\n",
       "      <td>9.280000e+02</td>\n",
       "      <td>9.250000e+02</td>\n",
       "      <td>1.107000e+03</td>\n",
       "      <td>1.115000e+03</td>\n",
       "      <td>6.220000e+02</td>\n",
       "      <td>7.700000e+01</td>\n",
       "      <td>...</td>\n",
       "      <td>3.250000e+02</td>\n",
       "      <td>4.000000e+00</td>\n",
       "      <td>1.000000e+01</td>\n",
       "      <td>0.000000e+00</td>\n",
       "      <td>0.000000e+00</td>\n",
       "      <td>0.000000e+00</td>\n",
       "      <td>0.000000e+00</td>\n",
       "      <td>0.000000e+00</td>\n",
       "      <td>0.000000e+00</td>\n",
       "      <td>0.000000e+00</td>\n",
       "    </tr>\n",
       "    <tr>\n",
       "      <th>50%</th>\n",
       "      <td>2008.0</td>\n",
       "      <td>6.000000e+00</td>\n",
       "      <td>1.600000e+01</td>\n",
       "      <td>4.000000e+00</td>\n",
       "      <td>1.325000e+03</td>\n",
       "      <td>1.320000e+03</td>\n",
       "      <td>1.512000e+03</td>\n",
       "      <td>1.517000e+03</td>\n",
       "      <td>1.571000e+03</td>\n",
       "      <td>1.100000e+02</td>\n",
       "      <td>...</td>\n",
       "      <td>5.810000e+02</td>\n",
       "      <td>6.000000e+00</td>\n",
       "      <td>1.400000e+01</td>\n",
       "      <td>0.000000e+00</td>\n",
       "      <td>0.000000e+00</td>\n",
       "      <td>0.000000e+00</td>\n",
       "      <td>0.000000e+00</td>\n",
       "      <td>6.000000e+00</td>\n",
       "      <td>0.000000e+00</td>\n",
       "      <td>0.000000e+00</td>\n",
       "    </tr>\n",
       "    <tr>\n",
       "      <th>75%</th>\n",
       "      <td>2008.0</td>\n",
       "      <td>9.000000e+00</td>\n",
       "      <td>2.300000e+01</td>\n",
       "      <td>6.000000e+00</td>\n",
       "      <td>1.728000e+03</td>\n",
       "      <td>1.715000e+03</td>\n",
       "      <td>1.909000e+03</td>\n",
       "      <td>1.907000e+03</td>\n",
       "      <td>3.518000e+03</td>\n",
       "      <td>1.570000e+02</td>\n",
       "      <td>...</td>\n",
       "      <td>9.540000e+02</td>\n",
       "      <td>8.000000e+00</td>\n",
       "      <td>1.900000e+01</td>\n",
       "      <td>0.000000e+00</td>\n",
       "      <td>0.000000e+00</td>\n",
       "      <td>1.600000e+01</td>\n",
       "      <td>0.000000e+00</td>\n",
       "      <td>2.100000e+01</td>\n",
       "      <td>0.000000e+00</td>\n",
       "      <td>2.600000e+01</td>\n",
       "    </tr>\n",
       "    <tr>\n",
       "      <th>max</th>\n",
       "      <td>2008.0</td>\n",
       "      <td>1.200000e+01</td>\n",
       "      <td>3.100000e+01</td>\n",
       "      <td>7.000000e+00</td>\n",
       "      <td>2.400000e+03</td>\n",
       "      <td>2.359000e+03</td>\n",
       "      <td>2.400000e+03</td>\n",
       "      <td>2.400000e+03</td>\n",
       "      <td>9.743000e+03</td>\n",
       "      <td>1.379000e+03</td>\n",
       "      <td>...</td>\n",
       "      <td>4.962000e+03</td>\n",
       "      <td>3.080000e+02</td>\n",
       "      <td>4.290000e+02</td>\n",
       "      <td>1.000000e+00</td>\n",
       "      <td>1.000000e+00</td>\n",
       "      <td>2.436000e+03</td>\n",
       "      <td>1.352000e+03</td>\n",
       "      <td>1.357000e+03</td>\n",
       "      <td>3.920000e+02</td>\n",
       "      <td>1.316000e+03</td>\n",
       "    </tr>\n",
       "  </tbody>\n",
       "</table>\n",
       "<p>8 rows × 24 columns</p>\n",
       "</div>"
      ],
      "text/plain": [
       "            Year         Month    DayofMonth     DayOfWeek       DepTime  \\\n",
       "count  7009728.0  7.009728e+06  7.009728e+06  7.009728e+06  6.873482e+06   \n",
       "mean      2008.0  6.375130e+00  1.572801e+01  3.924182e+00  1.333830e+03   \n",
       "std          0.0  3.406737e+00  8.797068e+00  1.988259e+00  4.780689e+02   \n",
       "min       2008.0  1.000000e+00  1.000000e+00  1.000000e+00  1.000000e+00   \n",
       "25%       2008.0  3.000000e+00  8.000000e+00  2.000000e+00  9.280000e+02   \n",
       "50%       2008.0  6.000000e+00  1.600000e+01  4.000000e+00  1.325000e+03   \n",
       "75%       2008.0  9.000000e+00  2.300000e+01  6.000000e+00  1.728000e+03   \n",
       "max       2008.0  1.200000e+01  3.100000e+01  7.000000e+00  2.400000e+03   \n",
       "\n",
       "         CRSDepTime       ArrTime    CRSArrTime     FlightNum  \\\n",
       "count  7.009728e+06  6.858079e+06  7.009728e+06  7.009728e+06   \n",
       "mean   1.326086e+03  1.481258e+03  1.494801e+03  2.224200e+03   \n",
       "std    4.642509e+02  5.052251e+02  4.826728e+02  1.961716e+03   \n",
       "min    0.000000e+00  1.000000e+00  0.000000e+00  1.000000e+00   \n",
       "25%    9.250000e+02  1.107000e+03  1.115000e+03  6.220000e+02   \n",
       "50%    1.320000e+03  1.512000e+03  1.517000e+03  1.571000e+03   \n",
       "75%    1.715000e+03  1.909000e+03  1.907000e+03  3.518000e+03   \n",
       "max    2.359000e+03  2.400000e+03  2.400000e+03  9.743000e+03   \n",
       "\n",
       "       ActualElapsedTime        ...              Distance        TaxiIn  \\\n",
       "count       6.855029e+06        ...          7.009728e+06  6.858079e+06   \n",
       "mean        1.273224e+02        ...          7.263870e+02  6.860852e+00   \n",
       "std         7.018731e+01        ...          5.621018e+02  4.933649e+00   \n",
       "min         1.200000e+01        ...          1.100000e+01  0.000000e+00   \n",
       "25%         7.700000e+01        ...          3.250000e+02  4.000000e+00   \n",
       "50%         1.100000e+02        ...          5.810000e+02  6.000000e+00   \n",
       "75%         1.570000e+02        ...          9.540000e+02  8.000000e+00   \n",
       "max         1.379000e+03        ...          4.962000e+03  3.080000e+02   \n",
       "\n",
       "            TaxiOut     Cancelled      Diverted  CarrierDelay  WeatherDelay  \\\n",
       "count  6.872670e+06  7.009728e+06  7.009728e+06  1.524735e+06  1.524735e+06   \n",
       "mean   1.645305e+01  1.960618e-02  2.463006e-03  1.577206e+01  3.039031e+00   \n",
       "std    1.133280e+01  1.386426e-01  4.956753e-02  4.009912e+01  1.950287e+01   \n",
       "min    0.000000e+00  0.000000e+00  0.000000e+00  0.000000e+00  0.000000e+00   \n",
       "25%    1.000000e+01  0.000000e+00  0.000000e+00  0.000000e+00  0.000000e+00   \n",
       "50%    1.400000e+01  0.000000e+00  0.000000e+00  0.000000e+00  0.000000e+00   \n",
       "75%    1.900000e+01  0.000000e+00  0.000000e+00  1.600000e+01  0.000000e+00   \n",
       "max    4.290000e+02  1.000000e+00  1.000000e+00  2.436000e+03  1.352000e+03   \n",
       "\n",
       "           NASDelay  SecurityDelay  LateAircraftDelay  \n",
       "count  1.524735e+06   1.524735e+06       1.524735e+06  \n",
       "mean   1.716462e+01   7.497434e-02       2.077098e+01  \n",
       "std    3.189495e+01   1.837940e+00       3.925964e+01  \n",
       "min    0.000000e+00   0.000000e+00       0.000000e+00  \n",
       "25%    0.000000e+00   0.000000e+00       0.000000e+00  \n",
       "50%    6.000000e+00   0.000000e+00       0.000000e+00  \n",
       "75%    2.100000e+01   0.000000e+00       2.600000e+01  \n",
       "max    1.357000e+03   3.920000e+02       1.316000e+03  \n",
       "\n",
       "[8 rows x 24 columns]"
      ]
     },
     "execution_count": 4,
     "metadata": {},
     "output_type": "execute_result"
    }
   ],
   "source": [
    "data = pd.read_csv(\"2008.csv.bz2\")\n",
    "data.describe()"
   ]
  },
  {
   "cell_type": "markdown",
   "metadata": {},
   "source": [
    "## Part 2: metric methods and categorical features\n",
    "\n",
    "All further experiments are proposed to be conducted on the Amazon Employee Access Challenge: https://www.kaggle.com/c/amazon-employee-access-challenge\n",
    "\n",
    "In this task, it is proposed to predict whether an employee’s request for access to a particular resource will be approved. All signs are categorical.\n",
    "\n",
    "File: amazon.csv in archive\n",
    "\n",
    "Immediately read the data and create a partition for learning and control:"
   ]
  },
  {
   "cell_type": "code",
   "execution_count": 5,
   "metadata": {},
   "outputs": [
    {
     "data": {
      "text/html": [
       "<div>\n",
       "<table border=\"1\" class=\"dataframe\">\n",
       "  <thead>\n",
       "    <tr style=\"text-align: right;\">\n",
       "      <th></th>\n",
       "      <th>ACTION</th>\n",
       "      <th>RESOURCE</th>\n",
       "      <th>MGR_ID</th>\n",
       "      <th>ROLE_ROLLUP_1</th>\n",
       "      <th>ROLE_ROLLUP_2</th>\n",
       "      <th>ROLE_DEPTNAME</th>\n",
       "      <th>ROLE_TITLE</th>\n",
       "      <th>ROLE_FAMILY_DESC</th>\n",
       "      <th>ROLE_FAMILY</th>\n",
       "      <th>ROLE_CODE</th>\n",
       "    </tr>\n",
       "  </thead>\n",
       "  <tbody>\n",
       "    <tr>\n",
       "      <th>0</th>\n",
       "      <td>1</td>\n",
       "      <td>39353</td>\n",
       "      <td>85475</td>\n",
       "      <td>117961</td>\n",
       "      <td>118300</td>\n",
       "      <td>123472</td>\n",
       "      <td>117905</td>\n",
       "      <td>117906</td>\n",
       "      <td>290919</td>\n",
       "      <td>117908</td>\n",
       "    </tr>\n",
       "    <tr>\n",
       "      <th>1</th>\n",
       "      <td>1</td>\n",
       "      <td>17183</td>\n",
       "      <td>1540</td>\n",
       "      <td>117961</td>\n",
       "      <td>118343</td>\n",
       "      <td>123125</td>\n",
       "      <td>118536</td>\n",
       "      <td>118536</td>\n",
       "      <td>308574</td>\n",
       "      <td>118539</td>\n",
       "    </tr>\n",
       "    <tr>\n",
       "      <th>2</th>\n",
       "      <td>1</td>\n",
       "      <td>36724</td>\n",
       "      <td>14457</td>\n",
       "      <td>118219</td>\n",
       "      <td>118220</td>\n",
       "      <td>117884</td>\n",
       "      <td>117879</td>\n",
       "      <td>267952</td>\n",
       "      <td>19721</td>\n",
       "      <td>117880</td>\n",
       "    </tr>\n",
       "    <tr>\n",
       "      <th>3</th>\n",
       "      <td>1</td>\n",
       "      <td>36135</td>\n",
       "      <td>5396</td>\n",
       "      <td>117961</td>\n",
       "      <td>118343</td>\n",
       "      <td>119993</td>\n",
       "      <td>118321</td>\n",
       "      <td>240983</td>\n",
       "      <td>290919</td>\n",
       "      <td>118322</td>\n",
       "    </tr>\n",
       "    <tr>\n",
       "      <th>4</th>\n",
       "      <td>1</td>\n",
       "      <td>42680</td>\n",
       "      <td>5905</td>\n",
       "      <td>117929</td>\n",
       "      <td>117930</td>\n",
       "      <td>119569</td>\n",
       "      <td>119323</td>\n",
       "      <td>123932</td>\n",
       "      <td>19793</td>\n",
       "      <td>119325</td>\n",
       "    </tr>\n",
       "  </tbody>\n",
       "</table>\n",
       "</div>"
      ],
      "text/plain": [
       "   ACTION  RESOURCE  MGR_ID  ROLE_ROLLUP_1  ROLE_ROLLUP_2  ROLE_DEPTNAME  \\\n",
       "0       1     39353   85475         117961         118300         123472   \n",
       "1       1     17183    1540         117961         118343         123125   \n",
       "2       1     36724   14457         118219         118220         117884   \n",
       "3       1     36135    5396         117961         118343         119993   \n",
       "4       1     42680    5905         117929         117930         119569   \n",
       "\n",
       "   ROLE_TITLE  ROLE_FAMILY_DESC  ROLE_FAMILY  ROLE_CODE  \n",
       "0      117905            117906       290919     117908  \n",
       "1      118536            118536       308574     118539  \n",
       "2      117879            267952        19721     117880  \n",
       "3      118321            240983       290919     118322  \n",
       "4      119323            123932        19793     119325  "
      ]
     },
     "execution_count": 5,
     "metadata": {},
     "output_type": "execute_result"
    }
   ],
   "source": [
    "data = pd.read_csv('amazon.csv')\n",
    "data.head()"
   ]
  },
  {
   "cell_type": "code",
   "execution_count": 6,
   "metadata": {},
   "outputs": [
    {
     "data": {
      "text/plain": [
       "(32769, 10)"
      ]
     },
     "execution_count": 6,
     "metadata": {},
     "output_type": "execute_result"
    }
   ],
   "source": [
    "data.shape"
   ]
  },
  {
   "cell_type": "code",
   "execution_count": 7,
   "metadata": {},
   "outputs": [
    {
     "data": {
      "text/plain": [
       "0.9421099209618847"
      ]
     },
     "execution_count": 7,
     "metadata": {},
     "output_type": "execute_result"
    }
   ],
   "source": [
    "# share of positive examples\n",
    "data.ACTION.mean()"
   ]
  },
  {
   "cell_type": "code",
   "execution_count": 9,
   "metadata": {},
   "outputs": [
    {
     "name": "stdout",
     "output_type": "stream",
     "text": [
      "ACTION 2\n",
      "RESOURCE 7518\n",
      "MGR_ID 4243\n",
      "ROLE_ROLLUP_1 128\n",
      "ROLE_ROLLUP_2 177\n",
      "ROLE_DEPTNAME 449\n",
      "ROLE_TITLE 343\n",
      "ROLE_FAMILY_DESC 2358\n",
      "ROLE_FAMILY 67\n",
      "ROLE_CODE 343\n"
     ]
    }
   ],
   "source": [
    "# number of values of features\n",
    "for col_name in data.columns:\n",
    "    print(col_name, len(data[col_name].unique()))"
   ]
  },
  {
   "cell_type": "code",
   "execution_count": 10,
   "metadata": {},
   "outputs": [
    {
     "name": "stderr",
     "output_type": "stream",
     "text": [
      "C:\\dev\\python\\Anaconda35\\lib\\site-packages\\sklearn\\cross_validation.py:44: DeprecationWarning: This module was deprecated in version 0.18 in favor of the model_selection module into which all the refactored classes and functions are moved. Also note that the interface of the new CV iterators are different from that of this module. This module will be removed in 0.20.\n",
      "  \"This module will be removed in 0.20.\", DeprecationWarning)\n"
     ]
    }
   ],
   "source": [
    "from sklearn.cross_validation import train_test_split\n",
    "X_train, X_test, y_train, y_test = train_test_split(data.iloc[:, 1:], data.iloc[:, 0],\n",
    "                                                    test_size=0.3, random_state=241)"
   ]
  },
  {
   "cell_type": "markdown",
   "metadata": {},
   "source": [
    "#### 1. Implement three distance functions on categorical features.\n",
    "\n",
    "The easiest way is to define the metrics as [user-defined distance] (http://scikit-learn.org/stable/modules/generated/sklearn.neighbors.DistanceMetric.html), then use the kNN implementation from sklearn (in this case use function predict_proba).\n",
    "\n",
    "Try to pay special attention to the effectiveness of the code - when implementing metrics \"in the forehead\" you may encounter a very long execution time.\n",
    "\n",
    "#### Count for each of the metrics the quality on the test sample `X_test` with the number of neighbors k = 10. A measure of quality - AUC-ROC.\n",
    "\n",
    "### What is the best distance function?"
   ]
  },
  {
   "cell_type": "markdown",
   "metadata": {},
   "source": [
    "#### 2 (bonus). Pick the best (on the test sample) the number of neighbors k for each of the distance functions. What is the best quality possible to get?\n",
    "\n",
    "For the selection, you can use any means of sklearn."
   ]
  },
  {
   "cell_type": "markdown",
   "metadata": {},
   "source": [
    "#### 3. Implement the counters (http://blogs.technet.com/b/machinelearning/archive/2015/02/17/big-learning-made-easy-with-counts.aspx) that will replace the categorical features on real.\n",
    "\n",
    "Namely, each categorical attribute must be replaced by three:\n",
    "1. The number of `counts` of objects in the training set with the same characteristic value.\n",
    "2. The number of `successes` objects of the first class y = 1 in the training sample with the same attribute value.\n",
    "3. The smoothed ratio of the two previous values: (`successes` + 1) / (` counts` + 2).\n",
    "\n",
    "Since attributes containing information about the target variable may lead to retraining, it may be useful to do * folding *: split the training set into n parts, and for the i-th part, consider `counts` and` successes` for all the rest parts. For the test sample, counters are counted for the entire training sample. Implement this option. You can use n = 3.\n",
    "\n",
    "#### On the AUC-ROC method, test the k closest neighbors with a Euclidean metric for a sample where categorical features are replaced by counters. Compare the AUC-ROC two options for forming the sample - with and without folding. Do not forget to choose the best number of neighbors k."
   ]
  },
  {
   "cell_type": "markdown",
   "metadata": {},
   "source": [
    "#### 4. Add paired signs to the original sample — that is, for each pair f(i), f(j),  i <j  of the original categorical signs, add a new categorical sign f(ij), the value of which is a concatenation of values f(i) and f(j) (preferably through some special character to avoid collisions). Count the counters for this sample, find the quality of the k nearest neighbors method with the best k (with and without folding)."
   ]
  },
  {
   "cell_type": "markdown",
   "metadata": {},
   "source": [
    "## Part 3: Decisive trees and forests"
   ]
  },
  {
   "cell_type": "markdown",
   "metadata": {},
   "source": [
    "#### 1. Take from the previous section a dataset with paired features, converted using counters without folding. Set up the decision tree by selecting the optimal values for the `max_depth` and` min_samples_leaf` parameters. What is the best AUC-ROC ?"
   ]
  },
  {
   "cell_type": "markdown",
   "metadata": {},
   "source": [
    "#### 2. Set up a random forest, picking up a number of trees `n_estimators`, in which the error goes on the asymptote. What quality on the test sample does it give?"
   ]
  },
  {
   "cell_type": "code",
   "execution_count": null,
   "metadata": {
    "collapsed": true
   },
   "outputs": [],
   "source": []
  }
 ],
 "metadata": {
  "kernelspec": {
   "display_name": "Python 3",
   "language": "python",
   "name": "python3"
  },
  "language_info": {
   "codemirror_mode": {
    "name": "ipython",
    "version": 3
   },
   "file_extension": ".py",
   "mimetype": "text/x-python",
   "name": "python",
   "nbconvert_exporter": "python",
   "pygments_lexer": "ipython3",
   "version": "3.6.6"
  }
 },
 "nbformat": 4,
 "nbformat_minor": 2
}
