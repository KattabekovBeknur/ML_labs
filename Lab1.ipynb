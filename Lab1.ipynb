{
 "cells": [
  {
   "cell_type": "code",
   "execution_count": 2,
   "metadata": {},
   "outputs": [
    {
     "name": "stdout",
     "output_type": "stream",
     "text": [
      "254\n",
      "[1 0 1 0 0 0 0 0 0 0 0 0 0 0 1 1 1 1 1 1 1 1 1 1 1 1 1 1 1 1 1 1 1 1 0 0 1\n",
      " 0 0 1 0 0 0 0 0 0 0 0 0 0 0 0 0 0 0 0 1 0 0 0 0 0 0 0 0 0 0 0 0 0 0 0 0 0\n",
      " 0 0 0 0 0 0 0 0 0 0 0 0 0 0 0 0 0 0 0 0 0 0 0 0 0 0 0 0 0 0 0 0 0 0 0 0 0\n",
      " 0 0 0 0 1 0 0 0 0 0 0 0 0 0 0 0 0 0 0 0 0 0 0 0 0 0 0 0 0 0 0 0 0 0 0 0 0\n",
      " 0 0 0 0 0 0 0 0 0 0 0 0 0 0 0 0 0 0 0 0 0 0 0 0 0 0 0 0 0 0 0 0 0 0 0 0 0\n",
      " 0 0 0 0 0 0 0 0 0 0 0 0 0 0 0 0 0 0 0 0 0 0 1 0 0 0 0 0 0 0 0 0 0 0 0 0 0\n",
      " 0 0 0 0 0 0 0 0 1 0 0 0 0 0 0 0 1 0 1 0 0 0 0 0 0 0 0 0 0 0 0 0]\n"
     ]
    }
   ],
   "source": [
    "import numpy as np\n",
    "import pandas as pd \n",
    "import re\n",
    "import sys\n",
    "with open('sentences.txt') as f:\n",
    "    lines = f.readlines()\n",
    "sentences = []\n",
    "word = []\n",
    "for n in range(len(lines)):\n",
    "    string = lines[n].lower()\n",
    "    sentences.append(string)\n",
    "    word+=re.split('[^a-z]',string)\n",
    "word = ' '.join(word).split()\n",
    "f_word = []\n",
    "for n in range(len(word)):\n",
    "    if word[n] in f_word:\n",
    "        continue\n",
    "    else:\n",
    "        f_word.append(word[n])\n",
    "print(len(f_word))\n",
    "d = {}\n",
    "for n in range(len(f_word)):\n",
    "    d[n] = f_word[n]\n",
    "A = np.array([])\n",
    "\n",
    "f = True\n",
    "for n in range(len(sentences)):\n",
    "    a = []\n",
    "    for k in range(len(d)):\n",
    "        if d[k] in sentences[n]:\n",
    "            a.append(1)\n",
    "        else:\n",
    "            a.append(0)\n",
    "    if f == False:\n",
    "        A = np.vstack((A,a))\n",
    "    else:\n",
    "        f = False\n",
    "        A = a\n",
    "print(A[1])"
   ]
  },
  {
   "cell_type": "code",
   "execution_count": null,
   "metadata": {
    "collapsed": true
   },
   "outputs": [],
   "source": []
  },
  {
   "cell_type": "code",
   "execution_count": null,
   "metadata": {
    "collapsed": true
   },
   "outputs": [],
   "source": []
  },
  {
   "cell_type": "code",
   "execution_count": null,
   "metadata": {
    "collapsed": true
   },
   "outputs": [],
   "source": []
  },
  {
   "cell_type": "code",
   "execution_count": 4,
   "metadata": {
    "collapsed": true
   },
   "outputs": [],
   "source": [
    "def dot(v1, v2):\n",
    "    return sum(x*y for x,y in zip(v1,v2))"
   ]
  },
  {
   "cell_type": "code",
   "execution_count": null,
   "metadata": {
    "collapsed": true
   },
   "outputs": [],
   "source": []
  },
  {
   "cell_type": "code",
   "execution_count": 11,
   "metadata": {
    "collapsed": true
   },
   "outputs": [],
   "source": [
    "import math as m\n",
    "def norm(v):\n",
    "    sum = 0\n",
    "    for n in range(len(v)):\n",
    "        sum += v[n]**2\n",
    "    return (m.sqrt(sum))"
   ]
  },
  {
   "cell_type": "code",
   "execution_count": 9,
   "metadata": {
    "collapsed": true
   },
   "outputs": [],
   "source": [
    "def cosdistance(r1,r2):\n",
    "    return (dot(r1,r2)/(norm(r1)*norm(r2)))"
   ]
  },
  {
   "cell_type": "code",
   "execution_count": 15,
   "metadata": {
    "collapsed": true
   },
   "outputs": [],
   "source": [
    "def cosd(a,b):\n",
    "    dot_product = np.dot(a, b)\n",
    "    norm_a = np.linalg.norm(a)\n",
    "    norm_b = np.linalg.norm(b)\n",
    "    return dot_product / (norm_a * norm_b)"
   ]
  },
  {
   "cell_type": "code",
   "execution_count": 12,
   "metadata": {},
   "outputs": [
    {
     "name": "stdout",
     "output_type": "stream",
     "text": [
      "0.3222516933177448\n",
      "0.45993310550389993\n",
      "0.381356384904845\n",
      "0.4529108136578383\n",
      "0.4005963724010764\n",
      "0.42307692307692313\n",
      "0.38074980525429486\n",
      "0.3721042037676254\n",
      "0.3222516933177448\n",
      "0.42307692307692313\n",
      "0.3602883460614461\n",
      "0.3461538461538462\n",
      "0.4151682458530185\n",
      "0.3922322702763681\n",
      "0.35805743701971643\n",
      "0.3588891627327475\n",
      "0.2579303520876644\n",
      "0.269069117598525\n",
      "0.29649972666444047\n",
      "0.3938631807216881\n",
      "0.3706246583305506\n"
     ]
    }
   ],
   "source": [
    "sentence1 = A[0]\n",
    "for i in range(len(A)-1):\n",
    "    print(cosdistance(sentence1,np.array(A[i+1])))\n",
    "#     print(cosd(sentence1,np.array(A[i+1])))"
   ]
  },
  {
   "cell_type": "code",
   "execution_count": null,
   "metadata": {
    "collapsed": true
   },
   "outputs": [],
   "source": []
  },
  {
   "cell_type": "code",
   "execution_count": null,
   "metadata": {
    "collapsed": true
   },
   "outputs": [],
   "source": []
  },
  {
   "cell_type": "code",
   "execution_count": null,
   "metadata": {
    "collapsed": true
   },
   "outputs": [],
   "source": []
  },
  {
   "cell_type": "code",
   "execution_count": null,
   "metadata": {
    "collapsed": true
   },
   "outputs": [],
   "source": []
  }
 ],
 "metadata": {
  "kernelspec": {
   "display_name": "Python 3",
   "language": "python",
   "name": "python3"
  },
  "language_info": {
   "codemirror_mode": {
    "name": "ipython",
    "version": 3
   },
   "file_extension": ".py",
   "mimetype": "text/x-python",
   "name": "python",
   "nbconvert_exporter": "python",
   "pygments_lexer": "ipython3",
   "version": "3.6.1"
  }
 },
 "nbformat": 4,
 "nbformat_minor": 2
}
